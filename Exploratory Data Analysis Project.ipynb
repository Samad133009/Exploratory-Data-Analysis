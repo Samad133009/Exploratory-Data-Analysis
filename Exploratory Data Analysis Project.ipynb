{
 "cells": [
  {
   "cell_type": "markdown",
   "metadata": {},
   "source": [
    "# Project Description"
   ]
  },
  {
   "cell_type": "markdown",
   "metadata": {},
   "source": [
    "### Research on car sales ads\n",
    "\n",
    "We are working as analyst at Crankshaft List. Hundreds of free advertisements for vehicles are published on site every day.\n",
    "\n",
    "### Description of the data\n",
    "The dataset contains the following fields:\n",
    "- price\n",
    "- model_year\n",
    "- model\n",
    "- condition\n",
    "- cylinders\n",
    "- fuel — gas, diesel, etc.\n",
    "- odometer — the vehicle's mileage when the ad was published\n",
    "- transmission\n",
    "- paint_color\n",
    "- is_4wd — whether the vehicle has 4-wheel drive (Boolean type)\n",
    "- date_posted — the date the ad was published\n",
    "- days_listed — from publication to removal "
   ]
  },
  {
   "cell_type": "markdown",
   "metadata": {},
   "source": [
    "# Project Goal\n",
    "We need to study data collected over the last few years and determine which factors influence the price of a vehicle."
   ]
  },
  {
   "cell_type": "markdown",
   "metadata": {},
   "source": [
    "# Project Contents"
   ]
  },
  {
   "cell_type": "markdown",
   "metadata": {},
   "source": [
    "-  <a href='#the_destination1'>Open the data file and study the general information:</a>\n",
    "-  <a href='#the_destination2'>Preprocess the data:</a>\n",
    "-  <a href='#the_destination3'>Make calculations and add them to the table:</a>\n",
    "-  <a href='#the_destination4'>Carry out exploratory data analysis:</a>\n",
    "-  <a href='#the_destination4'>Overall conclusion:</a>"
   ]
  },
  {
   "cell_type": "markdown",
   "metadata": {},
   "source": [
    "<a id='the_destination1'></a>\n",
    "# Step 1. Open the data file and study the general information. "
   ]
  },
  {
   "cell_type": "markdown",
   "metadata": {},
   "source": [
    "**Importing the libraries:**"
   ]
  },
  {
   "cell_type": "code",
   "execution_count": 1,
   "metadata": {},
   "outputs": [],
   "source": [
    "import pandas as pd\n",
    "import matplotlib.pyplot as plt \n",
    "import numpy as np\n",
    "import seaborn as sns"
   ]
  },
  {
   "cell_type": "markdown",
   "metadata": {},
   "source": [
    "**Information for the \"vehicles\" dataset:**"
   ]
  },
  {
   "cell_type": "code",
   "execution_count": 2,
   "metadata": {},
   "outputs": [
    {
     "name": "stdout",
     "output_type": "stream",
     "text": [
      "<class 'pandas.core.frame.DataFrame'>\n",
      "RangeIndex: 51525 entries, 0 to 51524\n",
      "Data columns (total 13 columns):\n",
      "price           51525 non-null int64\n",
      "model_year      47906 non-null float64\n",
      "model           51525 non-null object\n",
      "condition       51525 non-null object\n",
      "cylinders       46265 non-null float64\n",
      "fuel            51525 non-null object\n",
      "odometer        43633 non-null float64\n",
      "transmission    51525 non-null object\n",
      "type            51525 non-null object\n",
      "paint_color     42258 non-null object\n",
      "is_4wd          25572 non-null float64\n",
      "date_posted     51525 non-null object\n",
      "days_listed     51525 non-null int64\n",
      "dtypes: float64(4), int64(2), object(7)\n",
      "memory usage: 5.1+ MB\n"
     ]
    },
    {
     "data": {
      "text/html": [
       "<div>\n",
       "<style scoped>\n",
       "    .dataframe tbody tr th:only-of-type {\n",
       "        vertical-align: middle;\n",
       "    }\n",
       "\n",
       "    .dataframe tbody tr th {\n",
       "        vertical-align: top;\n",
       "    }\n",
       "\n",
       "    .dataframe thead th {\n",
       "        text-align: right;\n",
       "    }\n",
       "</style>\n",
       "<table border=\"1\" class=\"dataframe\">\n",
       "  <thead>\n",
       "    <tr style=\"text-align: right;\">\n",
       "      <th></th>\n",
       "      <th>price</th>\n",
       "      <th>model_year</th>\n",
       "      <th>model</th>\n",
       "      <th>condition</th>\n",
       "      <th>cylinders</th>\n",
       "      <th>fuel</th>\n",
       "      <th>odometer</th>\n",
       "      <th>transmission</th>\n",
       "      <th>type</th>\n",
       "      <th>paint_color</th>\n",
       "      <th>is_4wd</th>\n",
       "      <th>date_posted</th>\n",
       "      <th>days_listed</th>\n",
       "    </tr>\n",
       "  </thead>\n",
       "  <tbody>\n",
       "    <tr>\n",
       "      <td>0</td>\n",
       "      <td>9400</td>\n",
       "      <td>2011.0</td>\n",
       "      <td>bmw x5</td>\n",
       "      <td>good</td>\n",
       "      <td>6.0</td>\n",
       "      <td>gas</td>\n",
       "      <td>145000.0</td>\n",
       "      <td>automatic</td>\n",
       "      <td>SUV</td>\n",
       "      <td>NaN</td>\n",
       "      <td>1.0</td>\n",
       "      <td>2018-06-23</td>\n",
       "      <td>19</td>\n",
       "    </tr>\n",
       "    <tr>\n",
       "      <td>1</td>\n",
       "      <td>25500</td>\n",
       "      <td>NaN</td>\n",
       "      <td>ford f-150</td>\n",
       "      <td>good</td>\n",
       "      <td>6.0</td>\n",
       "      <td>gas</td>\n",
       "      <td>88705.0</td>\n",
       "      <td>automatic</td>\n",
       "      <td>pickup</td>\n",
       "      <td>white</td>\n",
       "      <td>1.0</td>\n",
       "      <td>2018-10-19</td>\n",
       "      <td>50</td>\n",
       "    </tr>\n",
       "    <tr>\n",
       "      <td>2</td>\n",
       "      <td>5500</td>\n",
       "      <td>2013.0</td>\n",
       "      <td>hyundai sonata</td>\n",
       "      <td>like new</td>\n",
       "      <td>4.0</td>\n",
       "      <td>gas</td>\n",
       "      <td>110000.0</td>\n",
       "      <td>automatic</td>\n",
       "      <td>sedan</td>\n",
       "      <td>red</td>\n",
       "      <td>NaN</td>\n",
       "      <td>2019-02-07</td>\n",
       "      <td>79</td>\n",
       "    </tr>\n",
       "    <tr>\n",
       "      <td>3</td>\n",
       "      <td>1500</td>\n",
       "      <td>2003.0</td>\n",
       "      <td>ford f-150</td>\n",
       "      <td>fair</td>\n",
       "      <td>8.0</td>\n",
       "      <td>gas</td>\n",
       "      <td>NaN</td>\n",
       "      <td>automatic</td>\n",
       "      <td>pickup</td>\n",
       "      <td>NaN</td>\n",
       "      <td>NaN</td>\n",
       "      <td>2019-03-22</td>\n",
       "      <td>9</td>\n",
       "    </tr>\n",
       "    <tr>\n",
       "      <td>4</td>\n",
       "      <td>14900</td>\n",
       "      <td>2017.0</td>\n",
       "      <td>chrysler 200</td>\n",
       "      <td>excellent</td>\n",
       "      <td>4.0</td>\n",
       "      <td>gas</td>\n",
       "      <td>80903.0</td>\n",
       "      <td>automatic</td>\n",
       "      <td>sedan</td>\n",
       "      <td>black</td>\n",
       "      <td>NaN</td>\n",
       "      <td>2019-04-02</td>\n",
       "      <td>28</td>\n",
       "    </tr>\n",
       "  </tbody>\n",
       "</table>\n",
       "</div>"
      ],
      "text/plain": [
       "   price  model_year           model  condition  cylinders fuel  odometer  \\\n",
       "0   9400      2011.0          bmw x5       good        6.0  gas  145000.0   \n",
       "1  25500         NaN      ford f-150       good        6.0  gas   88705.0   \n",
       "2   5500      2013.0  hyundai sonata   like new        4.0  gas  110000.0   \n",
       "3   1500      2003.0      ford f-150       fair        8.0  gas       NaN   \n",
       "4  14900      2017.0    chrysler 200  excellent        4.0  gas   80903.0   \n",
       "\n",
       "  transmission    type paint_color  is_4wd date_posted  days_listed  \n",
       "0    automatic     SUV         NaN     1.0  2018-06-23           19  \n",
       "1    automatic  pickup       white     1.0  2018-10-19           50  \n",
       "2    automatic   sedan         red     NaN  2019-02-07           79  \n",
       "3    automatic  pickup         NaN     NaN  2019-03-22            9  \n",
       "4    automatic   sedan       black     NaN  2019-04-02           28  "
      ]
     },
     "metadata": {},
     "output_type": "display_data"
    }
   ],
   "source": [
    "try:\n",
    "    vehicles = pd.read_csv('vehicles_us.csv')\n",
    "except:\n",
    "    vehicles = pd.read_csv('/datasets/vehicles_us.csv')\n",
    "vehicles.info()\n",
    "display(vehicles.head())"
   ]
  },
  {
   "cell_type": "markdown",
   "metadata": {},
   "source": [
    "There are 51525 rows and 13 columns in the vehicles_us data. Column names are \"price\", \"model_year\", \"model\", \"condition\", \"cylinders\", \"fuel\", \"odometer\", \"transmission\", \"type\", \"paint_color\", \"is_4wd\", \"date_posted\", \"days_listed\"."
   ]
  },
  {
   "cell_type": "markdown",
   "metadata": {},
   "source": [
    "<a id='the_destination2'></a>\n",
    "# Step 2. Preprocess the data"
   ]
  },
  {
   "cell_type": "code",
   "execution_count": 3,
   "metadata": {},
   "outputs": [
    {
     "data": {
      "text/plain": [
       "price               0\n",
       "model_year       3619\n",
       "model               0\n",
       "condition           0\n",
       "cylinders        5260\n",
       "fuel                0\n",
       "odometer         7892\n",
       "transmission        0\n",
       "type                0\n",
       "paint_color      9267\n",
       "is_4wd          25953\n",
       "date_posted         0\n",
       "days_listed         0\n",
       "dtype: int64"
      ]
     },
     "execution_count": 3,
     "metadata": {},
     "output_type": "execute_result"
    }
   ],
   "source": [
    "vehicles.isnull().sum()"
   ]
  },
  {
   "cell_type": "markdown",
   "metadata": {},
   "source": [
    "In \"model_year\", \"cylinders\", \"odometer\", \"paint_color\" and \"is_4wd\" columns there are 3614, 5260, 7892, 9267 and 25953 missing values respectively."
   ]
  },
  {
   "cell_type": "markdown",
   "metadata": {},
   "source": [
    "**Filling missing values with \"0\" in the \"is_4wd\" column:**"
   ]
  },
  {
   "cell_type": "code",
   "execution_count": 4,
   "metadata": {},
   "outputs": [
    {
     "data": {
      "text/html": [
       "<div>\n",
       "<style scoped>\n",
       "    .dataframe tbody tr th:only-of-type {\n",
       "        vertical-align: middle;\n",
       "    }\n",
       "\n",
       "    .dataframe tbody tr th {\n",
       "        vertical-align: top;\n",
       "    }\n",
       "\n",
       "    .dataframe thead th {\n",
       "        text-align: right;\n",
       "    }\n",
       "</style>\n",
       "<table border=\"1\" class=\"dataframe\">\n",
       "  <thead>\n",
       "    <tr style=\"text-align: right;\">\n",
       "      <th></th>\n",
       "      <th>price</th>\n",
       "      <th>model_year</th>\n",
       "      <th>model</th>\n",
       "      <th>condition</th>\n",
       "      <th>cylinders</th>\n",
       "      <th>fuel</th>\n",
       "      <th>odometer</th>\n",
       "      <th>transmission</th>\n",
       "      <th>type</th>\n",
       "      <th>paint_color</th>\n",
       "      <th>is_4wd</th>\n",
       "      <th>date_posted</th>\n",
       "      <th>days_listed</th>\n",
       "    </tr>\n",
       "  </thead>\n",
       "  <tbody>\n",
       "    <tr>\n",
       "      <td>0</td>\n",
       "      <td>9400</td>\n",
       "      <td>2011.0</td>\n",
       "      <td>bmw x5</td>\n",
       "      <td>good</td>\n",
       "      <td>6.0</td>\n",
       "      <td>gas</td>\n",
       "      <td>145000.0</td>\n",
       "      <td>automatic</td>\n",
       "      <td>SUV</td>\n",
       "      <td>NaN</td>\n",
       "      <td>1.0</td>\n",
       "      <td>2018-06-23</td>\n",
       "      <td>19</td>\n",
       "    </tr>\n",
       "    <tr>\n",
       "      <td>1</td>\n",
       "      <td>25500</td>\n",
       "      <td>NaN</td>\n",
       "      <td>ford f-150</td>\n",
       "      <td>good</td>\n",
       "      <td>6.0</td>\n",
       "      <td>gas</td>\n",
       "      <td>88705.0</td>\n",
       "      <td>automatic</td>\n",
       "      <td>pickup</td>\n",
       "      <td>white</td>\n",
       "      <td>1.0</td>\n",
       "      <td>2018-10-19</td>\n",
       "      <td>50</td>\n",
       "    </tr>\n",
       "    <tr>\n",
       "      <td>2</td>\n",
       "      <td>5500</td>\n",
       "      <td>2013.0</td>\n",
       "      <td>hyundai sonata</td>\n",
       "      <td>like new</td>\n",
       "      <td>4.0</td>\n",
       "      <td>gas</td>\n",
       "      <td>110000.0</td>\n",
       "      <td>automatic</td>\n",
       "      <td>sedan</td>\n",
       "      <td>red</td>\n",
       "      <td>0.0</td>\n",
       "      <td>2019-02-07</td>\n",
       "      <td>79</td>\n",
       "    </tr>\n",
       "    <tr>\n",
       "      <td>3</td>\n",
       "      <td>1500</td>\n",
       "      <td>2003.0</td>\n",
       "      <td>ford f-150</td>\n",
       "      <td>fair</td>\n",
       "      <td>8.0</td>\n",
       "      <td>gas</td>\n",
       "      <td>NaN</td>\n",
       "      <td>automatic</td>\n",
       "      <td>pickup</td>\n",
       "      <td>NaN</td>\n",
       "      <td>0.0</td>\n",
       "      <td>2019-03-22</td>\n",
       "      <td>9</td>\n",
       "    </tr>\n",
       "    <tr>\n",
       "      <td>4</td>\n",
       "      <td>14900</td>\n",
       "      <td>2017.0</td>\n",
       "      <td>chrysler 200</td>\n",
       "      <td>excellent</td>\n",
       "      <td>4.0</td>\n",
       "      <td>gas</td>\n",
       "      <td>80903.0</td>\n",
       "      <td>automatic</td>\n",
       "      <td>sedan</td>\n",
       "      <td>black</td>\n",
       "      <td>0.0</td>\n",
       "      <td>2019-04-02</td>\n",
       "      <td>28</td>\n",
       "    </tr>\n",
       "  </tbody>\n",
       "</table>\n",
       "</div>"
      ],
      "text/plain": [
       "   price  model_year           model  condition  cylinders fuel  odometer  \\\n",
       "0   9400      2011.0          bmw x5       good        6.0  gas  145000.0   \n",
       "1  25500         NaN      ford f-150       good        6.0  gas   88705.0   \n",
       "2   5500      2013.0  hyundai sonata   like new        4.0  gas  110000.0   \n",
       "3   1500      2003.0      ford f-150       fair        8.0  gas       NaN   \n",
       "4  14900      2017.0    chrysler 200  excellent        4.0  gas   80903.0   \n",
       "\n",
       "  transmission    type paint_color  is_4wd date_posted  days_listed  \n",
       "0    automatic     SUV         NaN     1.0  2018-06-23           19  \n",
       "1    automatic  pickup       white     1.0  2018-10-19           50  \n",
       "2    automatic   sedan         red     0.0  2019-02-07           79  \n",
       "3    automatic  pickup         NaN     0.0  2019-03-22            9  \n",
       "4    automatic   sedan       black     0.0  2019-04-02           28  "
      ]
     },
     "metadata": {},
     "output_type": "display_data"
    }
   ],
   "source": [
    "vehicles['is_4wd'] = vehicles['is_4wd'].fillna(value = 0)\n",
    "display(vehicles.head())"
   ]
  },
  {
   "cell_type": "markdown",
   "metadata": {},
   "source": [
    "In the \"is_4wd\" column there are 25953 missing values. I filled with 0 because if a Boolean field contains only True values, it's reasonable to assume that the missing values are False. That's why I filled with 0."
   ]
  },
  {
   "cell_type": "markdown",
   "metadata": {},
   "source": [
    "**Filling missing values in the \"model_year\", \"cylinders\", \"odometers\", \"price\" and \"paint_color\" column:**"
   ]
  },
  {
   "cell_type": "code",
   "execution_count": 5,
   "metadata": {},
   "outputs": [
    {
     "data": {
      "text/html": [
       "<div>\n",
       "<style scoped>\n",
       "    .dataframe tbody tr th:only-of-type {\n",
       "        vertical-align: middle;\n",
       "    }\n",
       "\n",
       "    .dataframe tbody tr th {\n",
       "        vertical-align: top;\n",
       "    }\n",
       "\n",
       "    .dataframe thead th {\n",
       "        text-align: right;\n",
       "    }\n",
       "</style>\n",
       "<table border=\"1\" class=\"dataframe\">\n",
       "  <thead>\n",
       "    <tr style=\"text-align: right;\">\n",
       "      <th></th>\n",
       "      <th>price</th>\n",
       "      <th>model_year</th>\n",
       "      <th>model</th>\n",
       "      <th>condition</th>\n",
       "      <th>cylinders</th>\n",
       "      <th>fuel</th>\n",
       "      <th>odometer</th>\n",
       "      <th>transmission</th>\n",
       "      <th>type</th>\n",
       "      <th>paint_color</th>\n",
       "      <th>is_4wd</th>\n",
       "      <th>date_posted</th>\n",
       "      <th>days_listed</th>\n",
       "    </tr>\n",
       "  </thead>\n",
       "  <tbody>\n",
       "    <tr>\n",
       "      <td>0</td>\n",
       "      <td>9400</td>\n",
       "      <td>2011.0</td>\n",
       "      <td>bmw x5</td>\n",
       "      <td>good</td>\n",
       "      <td>6.0</td>\n",
       "      <td>gas</td>\n",
       "      <td>145000.000000</td>\n",
       "      <td>automatic</td>\n",
       "      <td>SUV</td>\n",
       "      <td>Not mentioned</td>\n",
       "      <td>1.0</td>\n",
       "      <td>2018-06-23</td>\n",
       "      <td>19</td>\n",
       "    </tr>\n",
       "    <tr>\n",
       "      <td>1</td>\n",
       "      <td>25500</td>\n",
       "      <td>2011.0</td>\n",
       "      <td>ford f-150</td>\n",
       "      <td>good</td>\n",
       "      <td>6.0</td>\n",
       "      <td>gas</td>\n",
       "      <td>88705.000000</td>\n",
       "      <td>automatic</td>\n",
       "      <td>pickup</td>\n",
       "      <td>white</td>\n",
       "      <td>1.0</td>\n",
       "      <td>2018-10-19</td>\n",
       "      <td>50</td>\n",
       "    </tr>\n",
       "    <tr>\n",
       "      <td>2</td>\n",
       "      <td>5500</td>\n",
       "      <td>2013.0</td>\n",
       "      <td>hyundai sonata</td>\n",
       "      <td>like new</td>\n",
       "      <td>4.0</td>\n",
       "      <td>gas</td>\n",
       "      <td>110000.000000</td>\n",
       "      <td>automatic</td>\n",
       "      <td>sedan</td>\n",
       "      <td>red</td>\n",
       "      <td>0.0</td>\n",
       "      <td>2019-02-07</td>\n",
       "      <td>79</td>\n",
       "    </tr>\n",
       "    <tr>\n",
       "      <td>3</td>\n",
       "      <td>1500</td>\n",
       "      <td>2003.0</td>\n",
       "      <td>ford f-150</td>\n",
       "      <td>fair</td>\n",
       "      <td>8.0</td>\n",
       "      <td>gas</td>\n",
       "      <td>202621.854167</td>\n",
       "      <td>automatic</td>\n",
       "      <td>pickup</td>\n",
       "      <td>Not mentioned</td>\n",
       "      <td>0.0</td>\n",
       "      <td>2019-03-22</td>\n",
       "      <td>9</td>\n",
       "    </tr>\n",
       "    <tr>\n",
       "      <td>4</td>\n",
       "      <td>14900</td>\n",
       "      <td>2017.0</td>\n",
       "      <td>chrysler 200</td>\n",
       "      <td>excellent</td>\n",
       "      <td>4.0</td>\n",
       "      <td>gas</td>\n",
       "      <td>80903.000000</td>\n",
       "      <td>automatic</td>\n",
       "      <td>sedan</td>\n",
       "      <td>black</td>\n",
       "      <td>0.0</td>\n",
       "      <td>2019-04-02</td>\n",
       "      <td>28</td>\n",
       "    </tr>\n",
       "  </tbody>\n",
       "</table>\n",
       "</div>"
      ],
      "text/plain": [
       "   price  model_year           model  condition  cylinders fuel  \\\n",
       "0   9400      2011.0          bmw x5       good        6.0  gas   \n",
       "1  25500      2011.0      ford f-150       good        6.0  gas   \n",
       "2   5500      2013.0  hyundai sonata   like new        4.0  gas   \n",
       "3   1500      2003.0      ford f-150       fair        8.0  gas   \n",
       "4  14900      2017.0    chrysler 200  excellent        4.0  gas   \n",
       "\n",
       "        odometer transmission    type    paint_color  is_4wd date_posted  \\\n",
       "0  145000.000000    automatic     SUV  Not mentioned     1.0  2018-06-23   \n",
       "1   88705.000000    automatic  pickup          white     1.0  2018-10-19   \n",
       "2  110000.000000    automatic   sedan            red     0.0  2019-02-07   \n",
       "3  202621.854167    automatic  pickup  Not mentioned     0.0  2019-03-22   \n",
       "4   80903.000000    automatic   sedan          black     0.0  2019-04-02   \n",
       "\n",
       "   days_listed  \n",
       "0           19  \n",
       "1           50  \n",
       "2           79  \n",
       "3            9  \n",
       "4           28  "
      ]
     },
     "metadata": {},
     "output_type": "display_data"
    }
   ],
   "source": [
    "vehicles[\"model_year\"]  = vehicles.groupby(['model'])['model_year'].transform(lambda x: x.fillna(np.round(x.median())))\n",
    "vehicles['cylinders']  = vehicles.groupby(['model','model_year'])['cylinders'].transform(lambda x: x.fillna(np.round(x.mean())))\n",
    "vehicles['odometer']  = vehicles.groupby(['model_year','condition'])['odometer'].transform(lambda x: x.fillna(x.mean()))\n",
    "vehicles = vehicles[vehicles.cylinders.notna()]\n",
    "vehicles = vehicles[vehicles.odometer.notna()]\n",
    "vehicles['price']  = vehicles.groupby(['model','condition', 'odometer'])['price'].transform(lambda x: x.fillna(x.mean()))\n",
    "vehicles['paint_color'] = vehicles['paint_color'].fillna(\"Not mentioned\")\n",
    "display(vehicles.head())"
   ]
  },
  {
   "cell_type": "markdown",
   "metadata": {},
   "source": [
    "-  For filling missing values in the \"model_year\" column, I applied groupby method in the \"model\" column and then transforming those values by taking median method . Finally, I took the rounded value because \"model_year\" can not be fractional value.\n",
    "-  For filling missing values in the \"cylinders\" column, I applied groupby method in the \"model\", \"model_year\" column and then transforming those values by taking mean method . Finally, I took the rounded value because number of cylinders can not be fractional value. \n",
    "-  For filling missing values in the \"odometer\" column, I applied groupby method in the \"model_year\" & \"condition\" column and then transforming those values by taking mean method .\n",
    "-  For filling missing values in the \"price\" column, I applied groupby method in the \"model\", \"condition\" & \"odometer\" column and then transforming those values by taking mean method . \n",
    "-  For filling values in the \"paint_color\" column I filled with \"Not mentioned\"."
   ]
  },
  {
   "cell_type": "markdown",
   "metadata": {},
   "source": [
    "**Checking duplicate values in the \"vehicles\" dataset:**"
   ]
  },
  {
   "cell_type": "code",
   "execution_count": 6,
   "metadata": {},
   "outputs": [
    {
     "data": {
      "text/plain": [
       "0"
      ]
     },
     "execution_count": 6,
     "metadata": {},
     "output_type": "execute_result"
    }
   ],
   "source": [
    " vehicles.duplicated().sum()"
   ]
  },
  {
   "cell_type": "markdown",
   "metadata": {},
   "source": [
    "There is no duplicate values in the \"vehicles\" dataset."
   ]
  },
  {
   "cell_type": "markdown",
   "metadata": {},
   "source": [
    "-  In \"model_year\", \"cylinders\", \"odometer\", \"paint_color\" and \"is_4wd\" columns there are 3614, 5260, 7892, 9267 and 25953 missing values respectively.\n",
    "-  In the \"is_4wd\" column there are 25953 missing values. I filled with 0 because if a Boolean field contains only True values, it's reasonable to assume that the missing values are False. That's why I filled with 0.\n",
    "-  For filling missing values in the \"model_year\" column, I applied groupby method in the \"model\" column and then transforming those values by taking median method . Finally, I took the rounded value because \"model_year\" can not be fractional value.\n",
    "-  For filling missing values in the \"cylinders\" column, I applied groupby method in the \"model\", \"model_year\" column and then transforming those values by taking mean method . Finally, I took the rounded value because number of cylinders can not be fractional value. \n",
    "-  For filling missing values in the \"odometer\" column, I applied groupby method in the \"model_year\" & \"condition\" column and then transforming those values by taking mean method .\n",
    "-  For filling missing values in the \"price\" column, I applied groupby method in the \"model\", \"condition\" & \"odometer\" column and then transforming those values by taking mean method . \n",
    "-  For filling values in the \"paint_color\" column I filled with \"Not mentioned\".\n",
    "-  There is no duplicate values in the \"vehicles\" dataset."
   ]
  },
  {
   "cell_type": "markdown",
   "metadata": {},
   "source": [
    "<a id='the_destination3'></a>\n",
    "# Step 3. Make calculations and add them to the table"
   ]
  },
  {
   "cell_type": "markdown",
   "metadata": {},
   "source": [
    "**Splitting the \"date_posted\" column into \"day\", \"month\", \"year\" column:**"
   ]
  },
  {
   "cell_type": "code",
   "execution_count": 7,
   "metadata": {},
   "outputs": [
    {
     "data": {
      "text/html": [
       "<div>\n",
       "<style scoped>\n",
       "    .dataframe tbody tr th:only-of-type {\n",
       "        vertical-align: middle;\n",
       "    }\n",
       "\n",
       "    .dataframe tbody tr th {\n",
       "        vertical-align: top;\n",
       "    }\n",
       "\n",
       "    .dataframe thead th {\n",
       "        text-align: right;\n",
       "    }\n",
       "</style>\n",
       "<table border=\"1\" class=\"dataframe\">\n",
       "  <thead>\n",
       "    <tr style=\"text-align: right;\">\n",
       "      <th></th>\n",
       "      <th>price</th>\n",
       "      <th>model_year</th>\n",
       "      <th>model</th>\n",
       "      <th>condition</th>\n",
       "      <th>cylinders</th>\n",
       "      <th>fuel</th>\n",
       "      <th>odometer</th>\n",
       "      <th>transmission</th>\n",
       "      <th>type</th>\n",
       "      <th>paint_color</th>\n",
       "      <th>is_4wd</th>\n",
       "      <th>date_posted</th>\n",
       "      <th>days_listed</th>\n",
       "      <th>day</th>\n",
       "      <th>month</th>\n",
       "      <th>year</th>\n",
       "    </tr>\n",
       "  </thead>\n",
       "  <tbody>\n",
       "    <tr>\n",
       "      <td>0</td>\n",
       "      <td>9400</td>\n",
       "      <td>2011.0</td>\n",
       "      <td>bmw x5</td>\n",
       "      <td>good</td>\n",
       "      <td>6.0</td>\n",
       "      <td>gas</td>\n",
       "      <td>145000.000000</td>\n",
       "      <td>automatic</td>\n",
       "      <td>SUV</td>\n",
       "      <td>Not mentioned</td>\n",
       "      <td>1.0</td>\n",
       "      <td>2018-06-23</td>\n",
       "      <td>19</td>\n",
       "      <td>23</td>\n",
       "      <td>6</td>\n",
       "      <td>2018</td>\n",
       "    </tr>\n",
       "    <tr>\n",
       "      <td>1</td>\n",
       "      <td>25500</td>\n",
       "      <td>2011.0</td>\n",
       "      <td>ford f-150</td>\n",
       "      <td>good</td>\n",
       "      <td>6.0</td>\n",
       "      <td>gas</td>\n",
       "      <td>88705.000000</td>\n",
       "      <td>automatic</td>\n",
       "      <td>pickup</td>\n",
       "      <td>white</td>\n",
       "      <td>1.0</td>\n",
       "      <td>2018-10-19</td>\n",
       "      <td>50</td>\n",
       "      <td>19</td>\n",
       "      <td>10</td>\n",
       "      <td>2018</td>\n",
       "    </tr>\n",
       "    <tr>\n",
       "      <td>2</td>\n",
       "      <td>5500</td>\n",
       "      <td>2013.0</td>\n",
       "      <td>hyundai sonata</td>\n",
       "      <td>like new</td>\n",
       "      <td>4.0</td>\n",
       "      <td>gas</td>\n",
       "      <td>110000.000000</td>\n",
       "      <td>automatic</td>\n",
       "      <td>sedan</td>\n",
       "      <td>red</td>\n",
       "      <td>0.0</td>\n",
       "      <td>2019-02-07</td>\n",
       "      <td>79</td>\n",
       "      <td>7</td>\n",
       "      <td>2</td>\n",
       "      <td>2019</td>\n",
       "    </tr>\n",
       "    <tr>\n",
       "      <td>3</td>\n",
       "      <td>1500</td>\n",
       "      <td>2003.0</td>\n",
       "      <td>ford f-150</td>\n",
       "      <td>fair</td>\n",
       "      <td>8.0</td>\n",
       "      <td>gas</td>\n",
       "      <td>202621.854167</td>\n",
       "      <td>automatic</td>\n",
       "      <td>pickup</td>\n",
       "      <td>Not mentioned</td>\n",
       "      <td>0.0</td>\n",
       "      <td>2019-03-22</td>\n",
       "      <td>9</td>\n",
       "      <td>22</td>\n",
       "      <td>3</td>\n",
       "      <td>2019</td>\n",
       "    </tr>\n",
       "    <tr>\n",
       "      <td>4</td>\n",
       "      <td>14900</td>\n",
       "      <td>2017.0</td>\n",
       "      <td>chrysler 200</td>\n",
       "      <td>excellent</td>\n",
       "      <td>4.0</td>\n",
       "      <td>gas</td>\n",
       "      <td>80903.000000</td>\n",
       "      <td>automatic</td>\n",
       "      <td>sedan</td>\n",
       "      <td>black</td>\n",
       "      <td>0.0</td>\n",
       "      <td>2019-04-02</td>\n",
       "      <td>28</td>\n",
       "      <td>2</td>\n",
       "      <td>4</td>\n",
       "      <td>2019</td>\n",
       "    </tr>\n",
       "  </tbody>\n",
       "</table>\n",
       "</div>"
      ],
      "text/plain": [
       "   price  model_year           model  condition  cylinders fuel  \\\n",
       "0   9400      2011.0          bmw x5       good        6.0  gas   \n",
       "1  25500      2011.0      ford f-150       good        6.0  gas   \n",
       "2   5500      2013.0  hyundai sonata   like new        4.0  gas   \n",
       "3   1500      2003.0      ford f-150       fair        8.0  gas   \n",
       "4  14900      2017.0    chrysler 200  excellent        4.0  gas   \n",
       "\n",
       "        odometer transmission    type    paint_color  is_4wd date_posted  \\\n",
       "0  145000.000000    automatic     SUV  Not mentioned     1.0  2018-06-23   \n",
       "1   88705.000000    automatic  pickup          white     1.0  2018-10-19   \n",
       "2  110000.000000    automatic   sedan            red     0.0  2019-02-07   \n",
       "3  202621.854167    automatic  pickup  Not mentioned     0.0  2019-03-22   \n",
       "4   80903.000000    automatic   sedan          black     0.0  2019-04-02   \n",
       "\n",
       "   days_listed  day  month  year  \n",
       "0           19   23      6  2018  \n",
       "1           50   19     10  2018  \n",
       "2           79    7      2  2019  \n",
       "3            9   22      3  2019  \n",
       "4           28    2      4  2019  "
      ]
     },
     "metadata": {},
     "output_type": "display_data"
    }
   ],
   "source": [
    "vehicles[\"date_posted\"] = pd.DatetimeIndex(vehicles['date_posted'])\n",
    "vehicles['day'] = vehicles['date_posted'].apply(lambda x : x.day)\n",
    "vehicles['month'] = vehicles['date_posted'].apply(lambda x : x.month)\n",
    "vehicles['year'] = vehicles['date_posted'].apply(lambda x : x.year)\n",
    "display(vehicles.head())"
   ]
  },
  {
   "cell_type": "markdown",
   "metadata": {},
   "source": [
    "In the \"date_posted \" column the data type is string. I created new column named day, month , year. Those new columns data types are integer."
   ]
  },
  {
   "cell_type": "markdown",
   "metadata": {},
   "source": [
    "**Calculating each vehicle age:**"
   ]
  },
  {
   "cell_type": "code",
   "execution_count": 8,
   "metadata": {
    "scrolled": true
   },
   "outputs": [
    {
     "data": {
      "text/html": [
       "<div>\n",
       "<style scoped>\n",
       "    .dataframe tbody tr th:only-of-type {\n",
       "        vertical-align: middle;\n",
       "    }\n",
       "\n",
       "    .dataframe tbody tr th {\n",
       "        vertical-align: top;\n",
       "    }\n",
       "\n",
       "    .dataframe thead th {\n",
       "        text-align: right;\n",
       "    }\n",
       "</style>\n",
       "<table border=\"1\" class=\"dataframe\">\n",
       "  <thead>\n",
       "    <tr style=\"text-align: right;\">\n",
       "      <th></th>\n",
       "      <th>price</th>\n",
       "      <th>model_year</th>\n",
       "      <th>model</th>\n",
       "      <th>condition</th>\n",
       "      <th>cylinders</th>\n",
       "      <th>fuel</th>\n",
       "      <th>odometer</th>\n",
       "      <th>transmission</th>\n",
       "      <th>type</th>\n",
       "      <th>paint_color</th>\n",
       "      <th>is_4wd</th>\n",
       "      <th>date_posted</th>\n",
       "      <th>days_listed</th>\n",
       "      <th>day</th>\n",
       "      <th>month</th>\n",
       "      <th>year</th>\n",
       "      <th>vehicles_age</th>\n",
       "    </tr>\n",
       "  </thead>\n",
       "  <tbody>\n",
       "    <tr>\n",
       "      <td>0</td>\n",
       "      <td>9400</td>\n",
       "      <td>2011.0</td>\n",
       "      <td>bmw x5</td>\n",
       "      <td>good</td>\n",
       "      <td>6.0</td>\n",
       "      <td>gas</td>\n",
       "      <td>145000.000000</td>\n",
       "      <td>automatic</td>\n",
       "      <td>SUV</td>\n",
       "      <td>Not mentioned</td>\n",
       "      <td>1.0</td>\n",
       "      <td>2018-06-23</td>\n",
       "      <td>19</td>\n",
       "      <td>23</td>\n",
       "      <td>6</td>\n",
       "      <td>2018</td>\n",
       "      <td>8.0</td>\n",
       "    </tr>\n",
       "    <tr>\n",
       "      <td>1</td>\n",
       "      <td>25500</td>\n",
       "      <td>2011.0</td>\n",
       "      <td>ford f-150</td>\n",
       "      <td>good</td>\n",
       "      <td>6.0</td>\n",
       "      <td>gas</td>\n",
       "      <td>88705.000000</td>\n",
       "      <td>automatic</td>\n",
       "      <td>pickup</td>\n",
       "      <td>white</td>\n",
       "      <td>1.0</td>\n",
       "      <td>2018-10-19</td>\n",
       "      <td>50</td>\n",
       "      <td>19</td>\n",
       "      <td>10</td>\n",
       "      <td>2018</td>\n",
       "      <td>8.0</td>\n",
       "    </tr>\n",
       "    <tr>\n",
       "      <td>2</td>\n",
       "      <td>5500</td>\n",
       "      <td>2013.0</td>\n",
       "      <td>hyundai sonata</td>\n",
       "      <td>like new</td>\n",
       "      <td>4.0</td>\n",
       "      <td>gas</td>\n",
       "      <td>110000.000000</td>\n",
       "      <td>automatic</td>\n",
       "      <td>sedan</td>\n",
       "      <td>red</td>\n",
       "      <td>0.0</td>\n",
       "      <td>2019-02-07</td>\n",
       "      <td>79</td>\n",
       "      <td>7</td>\n",
       "      <td>2</td>\n",
       "      <td>2019</td>\n",
       "      <td>7.0</td>\n",
       "    </tr>\n",
       "    <tr>\n",
       "      <td>3</td>\n",
       "      <td>1500</td>\n",
       "      <td>2003.0</td>\n",
       "      <td>ford f-150</td>\n",
       "      <td>fair</td>\n",
       "      <td>8.0</td>\n",
       "      <td>gas</td>\n",
       "      <td>202621.854167</td>\n",
       "      <td>automatic</td>\n",
       "      <td>pickup</td>\n",
       "      <td>Not mentioned</td>\n",
       "      <td>0.0</td>\n",
       "      <td>2019-03-22</td>\n",
       "      <td>9</td>\n",
       "      <td>22</td>\n",
       "      <td>3</td>\n",
       "      <td>2019</td>\n",
       "      <td>17.0</td>\n",
       "    </tr>\n",
       "    <tr>\n",
       "      <td>4</td>\n",
       "      <td>14900</td>\n",
       "      <td>2017.0</td>\n",
       "      <td>chrysler 200</td>\n",
       "      <td>excellent</td>\n",
       "      <td>4.0</td>\n",
       "      <td>gas</td>\n",
       "      <td>80903.000000</td>\n",
       "      <td>automatic</td>\n",
       "      <td>sedan</td>\n",
       "      <td>black</td>\n",
       "      <td>0.0</td>\n",
       "      <td>2019-04-02</td>\n",
       "      <td>28</td>\n",
       "      <td>2</td>\n",
       "      <td>4</td>\n",
       "      <td>2019</td>\n",
       "      <td>3.0</td>\n",
       "    </tr>\n",
       "  </tbody>\n",
       "</table>\n",
       "</div>"
      ],
      "text/plain": [
       "   price  model_year           model  condition  cylinders fuel  \\\n",
       "0   9400      2011.0          bmw x5       good        6.0  gas   \n",
       "1  25500      2011.0      ford f-150       good        6.0  gas   \n",
       "2   5500      2013.0  hyundai sonata   like new        4.0  gas   \n",
       "3   1500      2003.0      ford f-150       fair        8.0  gas   \n",
       "4  14900      2017.0    chrysler 200  excellent        4.0  gas   \n",
       "\n",
       "        odometer transmission    type    paint_color  is_4wd date_posted  \\\n",
       "0  145000.000000    automatic     SUV  Not mentioned     1.0  2018-06-23   \n",
       "1   88705.000000    automatic  pickup          white     1.0  2018-10-19   \n",
       "2  110000.000000    automatic   sedan            red     0.0  2019-02-07   \n",
       "3  202621.854167    automatic  pickup  Not mentioned     0.0  2019-03-22   \n",
       "4   80903.000000    automatic   sedan          black     0.0  2019-04-02   \n",
       "\n",
       "   days_listed  day  month  year  vehicles_age  \n",
       "0           19   23      6  2018           8.0  \n",
       "1           50   19     10  2018           8.0  \n",
       "2           79    7      2  2019           7.0  \n",
       "3            9   22      3  2019          17.0  \n",
       "4           28    2      4  2019           3.0  "
      ]
     },
     "metadata": {},
     "output_type": "display_data"
    }
   ],
   "source": [
    "vehicles['vehicles_age'] = vehicles['year'] - vehicles['model_year'] + 1\n",
    "display(vehicles.head())"
   ]
  },
  {
   "cell_type": "markdown",
   "metadata": {},
   "source": [
    "For finding \"vehicle_age\" I substracted \"model_year\" column from \"year\" column. Finally I add plus 1 because \"vehicles_age\" should be at least one. "
   ]
  },
  {
   "cell_type": "markdown",
   "metadata": {},
   "source": [
    "**Calculating \"average_mileage_per_year\" for each vehicle:**"
   ]
  },
  {
   "cell_type": "code",
   "execution_count": 9,
   "metadata": {},
   "outputs": [
    {
     "data": {
      "text/html": [
       "<div>\n",
       "<style scoped>\n",
       "    .dataframe tbody tr th:only-of-type {\n",
       "        vertical-align: middle;\n",
       "    }\n",
       "\n",
       "    .dataframe tbody tr th {\n",
       "        vertical-align: top;\n",
       "    }\n",
       "\n",
       "    .dataframe thead th {\n",
       "        text-align: right;\n",
       "    }\n",
       "</style>\n",
       "<table border=\"1\" class=\"dataframe\">\n",
       "  <thead>\n",
       "    <tr style=\"text-align: right;\">\n",
       "      <th></th>\n",
       "      <th>price</th>\n",
       "      <th>model_year</th>\n",
       "      <th>model</th>\n",
       "      <th>condition</th>\n",
       "      <th>cylinders</th>\n",
       "      <th>fuel</th>\n",
       "      <th>odometer</th>\n",
       "      <th>transmission</th>\n",
       "      <th>type</th>\n",
       "      <th>paint_color</th>\n",
       "      <th>is_4wd</th>\n",
       "      <th>date_posted</th>\n",
       "      <th>days_listed</th>\n",
       "      <th>day</th>\n",
       "      <th>month</th>\n",
       "      <th>year</th>\n",
       "      <th>vehicles_age</th>\n",
       "      <th>average_mileage_per_year</th>\n",
       "    </tr>\n",
       "  </thead>\n",
       "  <tbody>\n",
       "    <tr>\n",
       "      <td>0</td>\n",
       "      <td>9400</td>\n",
       "      <td>2011.0</td>\n",
       "      <td>bmw x5</td>\n",
       "      <td>good</td>\n",
       "      <td>6.0</td>\n",
       "      <td>gas</td>\n",
       "      <td>145000.000000</td>\n",
       "      <td>automatic</td>\n",
       "      <td>SUV</td>\n",
       "      <td>Not mentioned</td>\n",
       "      <td>1.0</td>\n",
       "      <td>2018-06-23</td>\n",
       "      <td>19</td>\n",
       "      <td>23</td>\n",
       "      <td>6</td>\n",
       "      <td>2018</td>\n",
       "      <td>8.0</td>\n",
       "      <td>18125.000000</td>\n",
       "    </tr>\n",
       "    <tr>\n",
       "      <td>1</td>\n",
       "      <td>25500</td>\n",
       "      <td>2011.0</td>\n",
       "      <td>ford f-150</td>\n",
       "      <td>good</td>\n",
       "      <td>6.0</td>\n",
       "      <td>gas</td>\n",
       "      <td>88705.000000</td>\n",
       "      <td>automatic</td>\n",
       "      <td>pickup</td>\n",
       "      <td>white</td>\n",
       "      <td>1.0</td>\n",
       "      <td>2018-10-19</td>\n",
       "      <td>50</td>\n",
       "      <td>19</td>\n",
       "      <td>10</td>\n",
       "      <td>2018</td>\n",
       "      <td>8.0</td>\n",
       "      <td>11088.125000</td>\n",
       "    </tr>\n",
       "    <tr>\n",
       "      <td>2</td>\n",
       "      <td>5500</td>\n",
       "      <td>2013.0</td>\n",
       "      <td>hyundai sonata</td>\n",
       "      <td>like new</td>\n",
       "      <td>4.0</td>\n",
       "      <td>gas</td>\n",
       "      <td>110000.000000</td>\n",
       "      <td>automatic</td>\n",
       "      <td>sedan</td>\n",
       "      <td>red</td>\n",
       "      <td>0.0</td>\n",
       "      <td>2019-02-07</td>\n",
       "      <td>79</td>\n",
       "      <td>7</td>\n",
       "      <td>2</td>\n",
       "      <td>2019</td>\n",
       "      <td>7.0</td>\n",
       "      <td>15714.285714</td>\n",
       "    </tr>\n",
       "    <tr>\n",
       "      <td>3</td>\n",
       "      <td>1500</td>\n",
       "      <td>2003.0</td>\n",
       "      <td>ford f-150</td>\n",
       "      <td>fair</td>\n",
       "      <td>8.0</td>\n",
       "      <td>gas</td>\n",
       "      <td>202621.854167</td>\n",
       "      <td>automatic</td>\n",
       "      <td>pickup</td>\n",
       "      <td>Not mentioned</td>\n",
       "      <td>0.0</td>\n",
       "      <td>2019-03-22</td>\n",
       "      <td>9</td>\n",
       "      <td>22</td>\n",
       "      <td>3</td>\n",
       "      <td>2019</td>\n",
       "      <td>17.0</td>\n",
       "      <td>11918.932598</td>\n",
       "    </tr>\n",
       "    <tr>\n",
       "      <td>4</td>\n",
       "      <td>14900</td>\n",
       "      <td>2017.0</td>\n",
       "      <td>chrysler 200</td>\n",
       "      <td>excellent</td>\n",
       "      <td>4.0</td>\n",
       "      <td>gas</td>\n",
       "      <td>80903.000000</td>\n",
       "      <td>automatic</td>\n",
       "      <td>sedan</td>\n",
       "      <td>black</td>\n",
       "      <td>0.0</td>\n",
       "      <td>2019-04-02</td>\n",
       "      <td>28</td>\n",
       "      <td>2</td>\n",
       "      <td>4</td>\n",
       "      <td>2019</td>\n",
       "      <td>3.0</td>\n",
       "      <td>26967.666667</td>\n",
       "    </tr>\n",
       "  </tbody>\n",
       "</table>\n",
       "</div>"
      ],
      "text/plain": [
       "   price  model_year           model  condition  cylinders fuel  \\\n",
       "0   9400      2011.0          bmw x5       good        6.0  gas   \n",
       "1  25500      2011.0      ford f-150       good        6.0  gas   \n",
       "2   5500      2013.0  hyundai sonata   like new        4.0  gas   \n",
       "3   1500      2003.0      ford f-150       fair        8.0  gas   \n",
       "4  14900      2017.0    chrysler 200  excellent        4.0  gas   \n",
       "\n",
       "        odometer transmission    type    paint_color  is_4wd date_posted  \\\n",
       "0  145000.000000    automatic     SUV  Not mentioned     1.0  2018-06-23   \n",
       "1   88705.000000    automatic  pickup          white     1.0  2018-10-19   \n",
       "2  110000.000000    automatic   sedan            red     0.0  2019-02-07   \n",
       "3  202621.854167    automatic  pickup  Not mentioned     0.0  2019-03-22   \n",
       "4   80903.000000    automatic   sedan          black     0.0  2019-04-02   \n",
       "\n",
       "   days_listed  day  month  year  vehicles_age  average_mileage_per_year  \n",
       "0           19   23      6  2018           8.0              18125.000000  \n",
       "1           50   19     10  2018           8.0              11088.125000  \n",
       "2           79    7      2  2019           7.0              15714.285714  \n",
       "3            9   22      3  2019          17.0              11918.932598  \n",
       "4           28    2      4  2019           3.0              26967.666667  "
      ]
     },
     "metadata": {},
     "output_type": "display_data"
    }
   ],
   "source": [
    "vehicles['average_mileage_per_year'] = vehicles['odometer'] / vehicles['vehicles_age']\n",
    "display(vehicles.head())"
   ]
  },
  {
   "cell_type": "markdown",
   "metadata": {},
   "source": [
    "For finding average_mileage_per_year I divided \"odometer\" column by \"vehicles_age\" column."
   ]
  },
  {
   "cell_type": "markdown",
   "metadata": {},
   "source": [
    "**Converting \"average_mileage_per_year\" column from fractional number to integer number:**"
   ]
  },
  {
   "cell_type": "code",
   "execution_count": 10,
   "metadata": {},
   "outputs": [
    {
     "data": {
      "text/html": [
       "<div>\n",
       "<style scoped>\n",
       "    .dataframe tbody tr th:only-of-type {\n",
       "        vertical-align: middle;\n",
       "    }\n",
       "\n",
       "    .dataframe tbody tr th {\n",
       "        vertical-align: top;\n",
       "    }\n",
       "\n",
       "    .dataframe thead th {\n",
       "        text-align: right;\n",
       "    }\n",
       "</style>\n",
       "<table border=\"1\" class=\"dataframe\">\n",
       "  <thead>\n",
       "    <tr style=\"text-align: right;\">\n",
       "      <th></th>\n",
       "      <th>price</th>\n",
       "      <th>model_year</th>\n",
       "      <th>model</th>\n",
       "      <th>condition</th>\n",
       "      <th>cylinders</th>\n",
       "      <th>fuel</th>\n",
       "      <th>odometer</th>\n",
       "      <th>transmission</th>\n",
       "      <th>type</th>\n",
       "      <th>paint_color</th>\n",
       "      <th>is_4wd</th>\n",
       "      <th>date_posted</th>\n",
       "      <th>days_listed</th>\n",
       "      <th>day</th>\n",
       "      <th>month</th>\n",
       "      <th>year</th>\n",
       "      <th>vehicles_age</th>\n",
       "      <th>average_mileage_per_year</th>\n",
       "    </tr>\n",
       "  </thead>\n",
       "  <tbody>\n",
       "    <tr>\n",
       "      <td>0</td>\n",
       "      <td>9400</td>\n",
       "      <td>2011.0</td>\n",
       "      <td>bmw x5</td>\n",
       "      <td>good</td>\n",
       "      <td>6.0</td>\n",
       "      <td>gas</td>\n",
       "      <td>145000.000000</td>\n",
       "      <td>automatic</td>\n",
       "      <td>SUV</td>\n",
       "      <td>Not mentioned</td>\n",
       "      <td>1.0</td>\n",
       "      <td>2018-06-23</td>\n",
       "      <td>19</td>\n",
       "      <td>23</td>\n",
       "      <td>6</td>\n",
       "      <td>2018</td>\n",
       "      <td>8.0</td>\n",
       "      <td>18125.0</td>\n",
       "    </tr>\n",
       "    <tr>\n",
       "      <td>1</td>\n",
       "      <td>25500</td>\n",
       "      <td>2011.0</td>\n",
       "      <td>ford f-150</td>\n",
       "      <td>good</td>\n",
       "      <td>6.0</td>\n",
       "      <td>gas</td>\n",
       "      <td>88705.000000</td>\n",
       "      <td>automatic</td>\n",
       "      <td>pickup</td>\n",
       "      <td>white</td>\n",
       "      <td>1.0</td>\n",
       "      <td>2018-10-19</td>\n",
       "      <td>50</td>\n",
       "      <td>19</td>\n",
       "      <td>10</td>\n",
       "      <td>2018</td>\n",
       "      <td>8.0</td>\n",
       "      <td>11088.0</td>\n",
       "    </tr>\n",
       "    <tr>\n",
       "      <td>2</td>\n",
       "      <td>5500</td>\n",
       "      <td>2013.0</td>\n",
       "      <td>hyundai sonata</td>\n",
       "      <td>like new</td>\n",
       "      <td>4.0</td>\n",
       "      <td>gas</td>\n",
       "      <td>110000.000000</td>\n",
       "      <td>automatic</td>\n",
       "      <td>sedan</td>\n",
       "      <td>red</td>\n",
       "      <td>0.0</td>\n",
       "      <td>2019-02-07</td>\n",
       "      <td>79</td>\n",
       "      <td>7</td>\n",
       "      <td>2</td>\n",
       "      <td>2019</td>\n",
       "      <td>7.0</td>\n",
       "      <td>15714.0</td>\n",
       "    </tr>\n",
       "    <tr>\n",
       "      <td>3</td>\n",
       "      <td>1500</td>\n",
       "      <td>2003.0</td>\n",
       "      <td>ford f-150</td>\n",
       "      <td>fair</td>\n",
       "      <td>8.0</td>\n",
       "      <td>gas</td>\n",
       "      <td>202621.854167</td>\n",
       "      <td>automatic</td>\n",
       "      <td>pickup</td>\n",
       "      <td>Not mentioned</td>\n",
       "      <td>0.0</td>\n",
       "      <td>2019-03-22</td>\n",
       "      <td>9</td>\n",
       "      <td>22</td>\n",
       "      <td>3</td>\n",
       "      <td>2019</td>\n",
       "      <td>17.0</td>\n",
       "      <td>11919.0</td>\n",
       "    </tr>\n",
       "    <tr>\n",
       "      <td>4</td>\n",
       "      <td>14900</td>\n",
       "      <td>2017.0</td>\n",
       "      <td>chrysler 200</td>\n",
       "      <td>excellent</td>\n",
       "      <td>4.0</td>\n",
       "      <td>gas</td>\n",
       "      <td>80903.000000</td>\n",
       "      <td>automatic</td>\n",
       "      <td>sedan</td>\n",
       "      <td>black</td>\n",
       "      <td>0.0</td>\n",
       "      <td>2019-04-02</td>\n",
       "      <td>28</td>\n",
       "      <td>2</td>\n",
       "      <td>4</td>\n",
       "      <td>2019</td>\n",
       "      <td>3.0</td>\n",
       "      <td>26968.0</td>\n",
       "    </tr>\n",
       "  </tbody>\n",
       "</table>\n",
       "</div>"
      ],
      "text/plain": [
       "   price  model_year           model  condition  cylinders fuel  \\\n",
       "0   9400      2011.0          bmw x5       good        6.0  gas   \n",
       "1  25500      2011.0      ford f-150       good        6.0  gas   \n",
       "2   5500      2013.0  hyundai sonata   like new        4.0  gas   \n",
       "3   1500      2003.0      ford f-150       fair        8.0  gas   \n",
       "4  14900      2017.0    chrysler 200  excellent        4.0  gas   \n",
       "\n",
       "        odometer transmission    type    paint_color  is_4wd date_posted  \\\n",
       "0  145000.000000    automatic     SUV  Not mentioned     1.0  2018-06-23   \n",
       "1   88705.000000    automatic  pickup          white     1.0  2018-10-19   \n",
       "2  110000.000000    automatic   sedan            red     0.0  2019-02-07   \n",
       "3  202621.854167    automatic  pickup  Not mentioned     0.0  2019-03-22   \n",
       "4   80903.000000    automatic   sedan          black     0.0  2019-04-02   \n",
       "\n",
       "   days_listed  day  month  year  vehicles_age  average_mileage_per_year  \n",
       "0           19   23      6  2018           8.0                   18125.0  \n",
       "1           50   19     10  2018           8.0                   11088.0  \n",
       "2           79    7      2  2019           7.0                   15714.0  \n",
       "3            9   22      3  2019          17.0                   11919.0  \n",
       "4           28    2      4  2019           3.0                   26968.0  "
      ]
     },
     "metadata": {},
     "output_type": "display_data"
    }
   ],
   "source": [
    "vehicles['average_mileage_per_year'] = vehicles['average_mileage_per_year'].round()\n",
    "display(vehicles.head())"
   ]
  },
  {
   "cell_type": "markdown",
   "metadata": {},
   "source": [
    "In the \"average_mileage_per_year\" column gives us fractional value. I converted into integer value."
   ]
  },
  {
   "cell_type": "markdown",
   "metadata": {},
   "source": [
    "**In the condition column, replace string values with a numeric scale:**"
   ]
  },
  {
   "cell_type": "code",
   "execution_count": 11,
   "metadata": {},
   "outputs": [
    {
     "data": {
      "text/html": [
       "<div>\n",
       "<style scoped>\n",
       "    .dataframe tbody tr th:only-of-type {\n",
       "        vertical-align: middle;\n",
       "    }\n",
       "\n",
       "    .dataframe tbody tr th {\n",
       "        vertical-align: top;\n",
       "    }\n",
       "\n",
       "    .dataframe thead th {\n",
       "        text-align: right;\n",
       "    }\n",
       "</style>\n",
       "<table border=\"1\" class=\"dataframe\">\n",
       "  <thead>\n",
       "    <tr style=\"text-align: right;\">\n",
       "      <th></th>\n",
       "      <th>price</th>\n",
       "      <th>model_year</th>\n",
       "      <th>model</th>\n",
       "      <th>condition</th>\n",
       "      <th>cylinders</th>\n",
       "      <th>fuel</th>\n",
       "      <th>odometer</th>\n",
       "      <th>transmission</th>\n",
       "      <th>type</th>\n",
       "      <th>paint_color</th>\n",
       "      <th>is_4wd</th>\n",
       "      <th>date_posted</th>\n",
       "      <th>days_listed</th>\n",
       "      <th>day</th>\n",
       "      <th>month</th>\n",
       "      <th>year</th>\n",
       "      <th>vehicles_age</th>\n",
       "      <th>average_mileage_per_year</th>\n",
       "      <th>condition_new</th>\n",
       "    </tr>\n",
       "  </thead>\n",
       "  <tbody>\n",
       "    <tr>\n",
       "      <td>0</td>\n",
       "      <td>9400</td>\n",
       "      <td>2011.0</td>\n",
       "      <td>bmw x5</td>\n",
       "      <td>good</td>\n",
       "      <td>6.0</td>\n",
       "      <td>gas</td>\n",
       "      <td>145000.000000</td>\n",
       "      <td>automatic</td>\n",
       "      <td>SUV</td>\n",
       "      <td>Not mentioned</td>\n",
       "      <td>1.0</td>\n",
       "      <td>2018-06-23</td>\n",
       "      <td>19</td>\n",
       "      <td>23</td>\n",
       "      <td>6</td>\n",
       "      <td>2018</td>\n",
       "      <td>8.0</td>\n",
       "      <td>18125.0</td>\n",
       "      <td>2</td>\n",
       "    </tr>\n",
       "    <tr>\n",
       "      <td>1</td>\n",
       "      <td>25500</td>\n",
       "      <td>2011.0</td>\n",
       "      <td>ford f-150</td>\n",
       "      <td>good</td>\n",
       "      <td>6.0</td>\n",
       "      <td>gas</td>\n",
       "      <td>88705.000000</td>\n",
       "      <td>automatic</td>\n",
       "      <td>pickup</td>\n",
       "      <td>white</td>\n",
       "      <td>1.0</td>\n",
       "      <td>2018-10-19</td>\n",
       "      <td>50</td>\n",
       "      <td>19</td>\n",
       "      <td>10</td>\n",
       "      <td>2018</td>\n",
       "      <td>8.0</td>\n",
       "      <td>11088.0</td>\n",
       "      <td>2</td>\n",
       "    </tr>\n",
       "    <tr>\n",
       "      <td>2</td>\n",
       "      <td>5500</td>\n",
       "      <td>2013.0</td>\n",
       "      <td>hyundai sonata</td>\n",
       "      <td>like new</td>\n",
       "      <td>4.0</td>\n",
       "      <td>gas</td>\n",
       "      <td>110000.000000</td>\n",
       "      <td>automatic</td>\n",
       "      <td>sedan</td>\n",
       "      <td>red</td>\n",
       "      <td>0.0</td>\n",
       "      <td>2019-02-07</td>\n",
       "      <td>79</td>\n",
       "      <td>7</td>\n",
       "      <td>2</td>\n",
       "      <td>2019</td>\n",
       "      <td>7.0</td>\n",
       "      <td>15714.0</td>\n",
       "      <td>4</td>\n",
       "    </tr>\n",
       "    <tr>\n",
       "      <td>3</td>\n",
       "      <td>1500</td>\n",
       "      <td>2003.0</td>\n",
       "      <td>ford f-150</td>\n",
       "      <td>fair</td>\n",
       "      <td>8.0</td>\n",
       "      <td>gas</td>\n",
       "      <td>202621.854167</td>\n",
       "      <td>automatic</td>\n",
       "      <td>pickup</td>\n",
       "      <td>Not mentioned</td>\n",
       "      <td>0.0</td>\n",
       "      <td>2019-03-22</td>\n",
       "      <td>9</td>\n",
       "      <td>22</td>\n",
       "      <td>3</td>\n",
       "      <td>2019</td>\n",
       "      <td>17.0</td>\n",
       "      <td>11919.0</td>\n",
       "      <td>1</td>\n",
       "    </tr>\n",
       "    <tr>\n",
       "      <td>4</td>\n",
       "      <td>14900</td>\n",
       "      <td>2017.0</td>\n",
       "      <td>chrysler 200</td>\n",
       "      <td>excellent</td>\n",
       "      <td>4.0</td>\n",
       "      <td>gas</td>\n",
       "      <td>80903.000000</td>\n",
       "      <td>automatic</td>\n",
       "      <td>sedan</td>\n",
       "      <td>black</td>\n",
       "      <td>0.0</td>\n",
       "      <td>2019-04-02</td>\n",
       "      <td>28</td>\n",
       "      <td>2</td>\n",
       "      <td>4</td>\n",
       "      <td>2019</td>\n",
       "      <td>3.0</td>\n",
       "      <td>26968.0</td>\n",
       "      <td>3</td>\n",
       "    </tr>\n",
       "  </tbody>\n",
       "</table>\n",
       "</div>"
      ],
      "text/plain": [
       "   price  model_year           model  condition  cylinders fuel  \\\n",
       "0   9400      2011.0          bmw x5       good        6.0  gas   \n",
       "1  25500      2011.0      ford f-150       good        6.0  gas   \n",
       "2   5500      2013.0  hyundai sonata   like new        4.0  gas   \n",
       "3   1500      2003.0      ford f-150       fair        8.0  gas   \n",
       "4  14900      2017.0    chrysler 200  excellent        4.0  gas   \n",
       "\n",
       "        odometer transmission    type    paint_color  is_4wd date_posted  \\\n",
       "0  145000.000000    automatic     SUV  Not mentioned     1.0  2018-06-23   \n",
       "1   88705.000000    automatic  pickup          white     1.0  2018-10-19   \n",
       "2  110000.000000    automatic   sedan            red     0.0  2019-02-07   \n",
       "3  202621.854167    automatic  pickup  Not mentioned     0.0  2019-03-22   \n",
       "4   80903.000000    automatic   sedan          black     0.0  2019-04-02   \n",
       "\n",
       "   days_listed  day  month  year  vehicles_age  average_mileage_per_year  \\\n",
       "0           19   23      6  2018           8.0                   18125.0   \n",
       "1           50   19     10  2018           8.0                   11088.0   \n",
       "2           79    7      2  2019           7.0                   15714.0   \n",
       "3            9   22      3  2019          17.0                   11919.0   \n",
       "4           28    2      4  2019           3.0                   26968.0   \n",
       "\n",
       "   condition_new  \n",
       "0              2  \n",
       "1              2  \n",
       "2              4  \n",
       "3              1  \n",
       "4              3  "
      ]
     },
     "metadata": {},
     "output_type": "display_data"
    }
   ],
   "source": [
    "dictionary = {'new':5 , 'like new':4, 'excellent':3, 'good' :2, 'fair':1, 'salvage':0}\n",
    "vehicles['condition_new'] = vehicles.condition.replace(dictionary)\n",
    "display(vehicles.head())"
   ]
  },
  {
   "cell_type": "markdown",
   "metadata": {},
   "source": [
    "In the \"condition\" column, I replaced the string values with a numeric scale by creating dictionary:\n",
    "dictionary = {'new':5 , 'like new':4, 'excellent':3, 'good' :2, 'fair':1, 'salvage':0}"
   ]
  },
  {
   "cell_type": "markdown",
   "metadata": {},
   "source": [
    "-  In the \"date_posted \" column the data type is string. I created new column named day, month , year. Those new columns data types are integer.\n",
    "-  For finding \"vehicle_age\" I substracted \"model_year\" column from \"year\" column. Finally I add plus 1 because \"vehicles_age\" should be at least one. \n",
    "-  For finding average_mileage_per_year I divided \"odometer\" column by \"vehicles_age\" column.\n",
    "-  In the \"average_mileage_per_year\" column gives us fractional value. I converted into integer value.\n",
    "-  In the \"condition\" column, I replaced the string values with a numeric scale by creating dictionary:dictionary = {'new':5 , 'like new':4, 'excellent':3, 'good' :2, 'fair':1, 'salvage':0}"
   ]
  },
  {
   "cell_type": "markdown",
   "metadata": {},
   "source": [
    "<a id='the_destination4'></a>\n",
    "# Step 4. Carry out exploratory data analysis"
   ]
  },
  {
   "cell_type": "markdown",
   "metadata": {},
   "source": [
    "**Drawing histograms for \"price\", \"cylinders\", \"vehicles_age\", \"days_listed\", \"average_mileage_per_year\" column:**"
   ]
  },
  {
   "cell_type": "code",
   "execution_count": 12,
   "metadata": {
    "scrolled": false
   },
   "outputs": [
    {
     "data": {
      "image/png": "[encoded data removed]",
      "text/plain": [
       "<Figure size 432x288 with 1 Axes>"
      ]
     },
     "metadata": {
      "needs_background": "light"
     },
     "output_type": "display_data"
    },
    {
     "data": {
      "image/png": "[encoded data removed]",
      "text/plain": [
       "<Figure size 432x288 with 1 Axes>"
      ]
     },
     "metadata": {
      "needs_background": "light"
     },
     "output_type": "display_data"
    },
    {
     "data": {
      "image/png": "[encoded data removed]",
      "text/plain": [
       "<Figure size 432x288 with 1 Axes>"
      ]
     },
     "metadata": {
      "needs_background": "light"
     },
     "output_type": "display_data"
    },
    {
     "data": {
      "image/png": "[encoded data removed]",
      "text/plain": [
       "<Figure size 432x288 with 1 Axes>"
      ]
     },
     "metadata": {
      "needs_background": "light"
     },
     "output_type": "display_data"
    },
    {
     "data": {
      "image/png": "[encoded data removed]",
      "text/plain": [
       "<Figure size 432x288 with 1 Axes>"
      ]
     },
     "metadata": {
      "needs_background": "light"
     },
     "output_type": "display_data"
    }
   ],
   "source": [
    "plt.hist(vehicles[\"price\"], bins=75 )\n",
    "plt.title('price')\n",
    "plt.ylabel('count')\n",
    "plt.xlabel('price');\n",
    "plt.show()\n",
    "\n",
    "\n",
    "plt.hist(vehicles[\"cylinders\"], bins=75)\n",
    "plt.title('cylinders')\n",
    "plt.ylabel('count')\n",
    "plt.xlabel('cylinders');\n",
    "plt.show()\n",
    "\n",
    "\n",
    "plt.hist(vehicles[\"vehicles_age\"], bins=75)\n",
    "plt.title('vehicles_age')\n",
    "plt.ylabel('count')\n",
    "plt.xlabel('vehicles_age');\n",
    "plt.show()\n",
    "\n",
    "\n",
    "plt.hist(vehicles[\"condition_new\"], bins=75)\n",
    "plt.title('condition_new')\n",
    "plt.ylabel('count')\n",
    "plt.xlabel('condition_new');\n",
    "plt.show()\n",
    "\n",
    "\n",
    "plt.hist(vehicles[\"average_mileage_per_year\"], bins=75)\n",
    "plt.title('average_mileage_per_year')\n",
    "plt.ylabel('count')\n",
    "plt.xlabel('average_mileage_per_year');\n",
    "plt.show()"
   ]
  },
  {
   "cell_type": "markdown",
   "metadata": {},
   "source": [
    "**Determining outlier for the \"price\" column:**"
   ]
  },
  {
   "cell_type": "code",
   "execution_count": 13,
   "metadata": {},
   "outputs": [
    {
     "name": "stdout",
     "output_type": "stream",
     "text": [
      "Upper_limit: 34618.0\n"
     ]
    }
   ],
   "source": [
    "Q1 = vehicles['price'].quantile(0.25)\n",
    "Q3 = vehicles['price'].quantile(0.75)\n",
    "IQR = Q3 - Q1\n",
    "Lower_limit=Q1 - 1.5*IQR\n",
    "Upper_limit=Q3 + 1.5*IQR\n",
    "print(\"Upper_limit:\" , Upper_limit.round())"
   ]
  },
  {
   "cell_type": "markdown",
   "metadata": {},
   "source": [
    "The upper limit price for the vehicle is 34618 dollars."
   ]
  },
  {
   "cell_type": "markdown",
   "metadata": {},
   "source": [
    "**Determining outlier for the \"vehicles_age\" column:**"
   ]
  },
  {
   "cell_type": "code",
   "execution_count": 14,
   "metadata": {},
   "outputs": [
    {
     "name": "stdout",
     "output_type": "stream",
     "text": [
      "upper_limit: 25.0\n"
     ]
    }
   ],
   "source": [
    "Q1 = vehicles['vehicles_age'].quantile(0.25)\n",
    "Q3 = vehicles['vehicles_age'].quantile(0.75)\n",
    "IQR = Q3 - Q1\n",
    "Lower_limit=Q1 - 1.5*IQR\n",
    "Upper_limit=Q3 + 1.5*IQR\n",
    "print(\"upper_limit:\" , Upper_limit.round())"
   ]
  },
  {
   "cell_type": "markdown",
   "metadata": {},
   "source": [
    "The maximum vehicle age is 25 years."
   ]
  },
  {
   "cell_type": "markdown",
   "metadata": {},
   "source": [
    "**Determining outlier for the \"average_mileage_per_year\" column:**"
   ]
  },
  {
   "cell_type": "code",
   "execution_count": 15,
   "metadata": {},
   "outputs": [
    {
     "name": "stdout",
     "output_type": "stream",
     "text": [
      "upper_limit: 29690.0\n"
     ]
    }
   ],
   "source": [
    "Q1 = vehicles['average_mileage_per_year'].quantile(0.25)\n",
    "Q3 = vehicles['average_mileage_per_year'].quantile(0.75)\n",
    "IQR = Q3 - Q1\n",
    "Lower_limit=Q1 - 1.5*IQR\n",
    "Upper_limit=Q3 + 1.5*IQR\n",
    "print(\"upper_limit:\" , Upper_limit.round())"
   ]
  },
  {
   "cell_type": "markdown",
   "metadata": {},
   "source": [
    "The upper limit for the average mileage per year is 29690 miles."
   ]
  },
  {
   "cell_type": "markdown",
   "metadata": {},
   "source": [
    "**Removing outliers from the \"price\", \"cylinders\", \"condition_new\", \"vehicle_age\" and \"average_mileage_per_year\" columns:**"
   ]
  },
  {
   "cell_type": "code",
   "execution_count": 16,
   "metadata": {},
   "outputs": [
    {
     "data": {
      "image/png": "[encoded data removed]",
      "text/plain": [
       "<Figure size 432x288 with 1 Axes>"
      ]
     },
     "metadata": {
      "needs_background": "light"
     },
     "output_type": "display_data"
    },
    {
     "data": {
      "image/png": "[encoded data removed]",
      "text/plain": [
       "<Figure size 432x288 with 1 Axes>"
      ]
     },
     "metadata": {
      "needs_background": "light"
     },
     "output_type": "display_data"
    },
    {
     "data": {
      "image/png": "[encoded data removed]",
      "text/plain": [
       "<Figure size 432x288 with 1 Axes>"
      ]
     },
     "metadata": {
      "needs_background": "light"
     },
     "output_type": "display_data"
    },
    {
     "data": {
      "image/png": "[encoded data removed]",
      "text/plain": [
       "<Figure size 432x288 with 1 Axes>"
      ]
     },
     "metadata": {
      "needs_background": "light"
     },
     "output_type": "display_data"
    },
    {
     "data": {
      "image/png": "[encoded data removed]",
      "text/plain": [
       "<Figure size 432x288 with 1 Axes>"
      ]
     },
     "metadata": {
      "needs_background": "light"
     },
     "output_type": "display_data"
    }
   ],
   "source": [
    "outliers_price = vehicles.query('price < 34618' )\n",
    "outliers_price.hist(\"price\", bins=75)\n",
    "plt.ylabel('count')\n",
    "plt.xlabel('price');\n",
    "plt.show()\n",
    "\n",
    "outliers_cylinders =  vehicles.query('cylinders >2 and cylinders <10')\n",
    "outliers_cylinders.hist(\"cylinders\", bins=50)\n",
    "plt.ylabel('count')\n",
    "plt.xlabel('cylinders')\n",
    "plt.show()\n",
    "\n",
    "outliers_condition_new = vehicles.query('condition_new <= 5')\n",
    "outliers_condition_new.hist(\"condition_new\", bins=50)\n",
    "plt.ylabel('count')\n",
    "plt.xlabel('condition_new')\n",
    "plt.show()\n",
    "\n",
    "outliers_vehicles_age =  vehicles.query('vehicles_age < 25')\n",
    "outliers_vehicles_age.hist(\"vehicles_age\", bins=50)\n",
    "plt.ylabel('count')\n",
    "plt.xlabel('vehicles_age')\n",
    "plt.show()\n",
    "\n",
    "outliers_average_mileage_per_year =  vehicles.query('average_mileage_per_year < 29690')\n",
    "outliers_average_mileage_per_year.hist(\"average_mileage_per_year\", bins=50, range=(0,20000))\n",
    "plt.ylabel('count')\n",
    "plt.xlabel('average_mileage_per_year')\n",
    "plt.show()"
   ]
  },
  {
   "cell_type": "markdown",
   "metadata": {},
   "source": [
    "**Comparison of histograms and conclusions:**\n",
    "-  After finding the ouliers for the price of the vehicles, we can see that most of the vehicles's price is less than 34618.\n",
    "-  Most of the vehicle's cylinder is 4, 6, 8. Very few vehicles have cylinders more than 10 and less than 4.\n",
    "-  Majority of the vehicles_age is less than 25.\n",
    "-  After removing the outliers of \"average_mileage_per_year\" column , I can see that \"average_mileage_per_year\" of the vehicles is less than 29690.\n",
    "-  From the histogram we can see than most of the cars condition is good & excellent."
   ]
  },
  {
   "cell_type": "markdown",
   "metadata": {},
   "source": [
    "**Study of \"days_listed\" column:**"
   ]
  },
  {
   "cell_type": "code",
   "execution_count": 17,
   "metadata": {},
   "outputs": [
    {
     "data": {
      "text/plain": [
       "count    51492.000000\n",
       "mean        39.553445\n",
       "std         28.201542\n",
       "min          0.000000\n",
       "25%         19.000000\n",
       "50%         33.000000\n",
       "75%         53.000000\n",
       "max        271.000000\n",
       "Name: days_listed, dtype: float64"
      ]
     },
     "execution_count": 17,
     "metadata": {},
     "output_type": "execute_result"
    }
   ],
   "source": [
    "vehicles['days_listed'].describe()\n"
   ]
  },
  {
   "cell_type": "markdown",
   "metadata": {},
   "source": [
    "Applying describe method, we can see that the average for the ads is 39.553445 and standard deviation is 28.201542."
   ]
  },
  {
   "cell_type": "markdown",
   "metadata": {},
   "source": [
    "**Histogram of \"days_listed\" column:**"
   ]
  },
  {
   "cell_type": "code",
   "execution_count": 18,
   "metadata": {},
   "outputs": [
    {
     "data": {
      "image/png": "[encoded data removed]",
      "text/plain": [
       "<Figure size 432x288 with 1 Axes>"
      ]
     },
     "metadata": {
      "needs_background": "light"
     },
     "output_type": "display_data"
    }
   ],
   "source": [
    "plt.hist(vehicles[\"days_listed\"], bins=200)\n",
    "plt.title('days_listed')\n",
    "plt.ylabel('count')\n",
    "plt.xlabel('days_listed');\n",
    "plt.show()"
   ]
  },
  {
   "cell_type": "markdown",
   "metadata": {},
   "source": [
    "**Determining of mean & median of \"days_listed\" column:**"
   ]
  },
  {
   "cell_type": "code",
   "execution_count": 19,
   "metadata": {},
   "outputs": [
    {
     "name": "stdout",
     "output_type": "stream",
     "text": [
      "39.55344519537015\n",
      "33.0\n"
     ]
    }
   ],
   "source": [
    "print(vehicles['days_listed'].mean())\n",
    "print(vehicles['days_listed'].median())"
   ]
  },
  {
   "cell_type": "markdown",
   "metadata": {},
   "source": [
    "After analyzing the describe() method on \"days_listed\" column and observing the histogram carefully, we can say that typical lifetime of an ad is about 30 to 40 days.It can be said that typical lifetime is abnormally long if it is more than 120 days.Conversely, there were almost 25% ads which were removed with in 19 days."
   ]
  },
  {
   "cell_type": "markdown",
   "metadata": {},
   "source": [
    "**Analysing the number of ads for each type of vehicles:**"
   ]
  },
  {
   "cell_type": "code",
   "execution_count": 20,
   "metadata": {},
   "outputs": [
    {
     "data": {
      "text/plain": [
       "type\n",
       "bus               24\n",
       "offroad          214\n",
       "other            255\n",
       "convertible      444\n",
       "van              632\n",
       "hatchback       1047\n",
       "mini-van        1161\n",
       "wagon           1540\n",
       "coupe           2297\n",
       "pickup          6984\n",
       "sedan          12147\n",
       "truck          12347\n",
       "SUV            12400\n",
       "Name: date_posted, dtype: int64"
      ]
     },
     "metadata": {},
     "output_type": "display_data"
    },
    {
     "data": {
      "text/plain": [
       "51492"
      ]
     },
     "execution_count": 20,
     "metadata": {},
     "output_type": "execute_result"
    }
   ],
   "source": [
    "display(vehicles.groupby(['type'])['date_posted'].count().sort_values(ascending=True))\n",
    "len(vehicles['date_posted'])"
   ]
  },
  {
   "cell_type": "markdown",
   "metadata": {},
   "source": [
    "**Determining the greatest number of vehicles type:**"
   ]
  },
  {
   "cell_type": "code",
   "execution_count": 21,
   "metadata": {},
   "outputs": [
    {
     "data": {
      "text/plain": [
       "<matplotlib.axes._subplots.AxesSubplot at 0x2ba54060748>"
      ]
     },
     "metadata": {},
     "output_type": "display_data"
    },
    {
     "data": {
      "image/png": "[encoded data removed]",
      "text/plain": [
       "<Figure size 432x288 with 1 Axes>"
      ]
     },
     "metadata": {
      "needs_background": "light"
     },
     "output_type": "display_data"
    }
   ],
   "source": [
    "ads_vehicle = vehicles[\"type\"].value_counts().sort_values(ascending = False).plot.bar()\n",
    "ads_vehicle.set_xlabel(\"type\")\n",
    "ads_vehicle.set_ylabel(\"number_of_ads\")\n",
    "display(ads_vehicle)\n",
    "len(vehicles['date_posted'])\n",
    "plt.show()"
   ]
  },
  {
   "cell_type": "markdown",
   "metadata": {},
   "source": [
    "From above, it can be said that the two types with the greatest number of ads are SUV and truck & their values are 12400, 12347 respectively."
   ]
  },
  {
   "cell_type": "markdown",
   "metadata": {},
   "source": [
    "**Analysing the price for each type of vehicles**"
   ]
  },
  {
   "cell_type": "code",
   "execution_count": 22,
   "metadata": {},
   "outputs": [
    {
     "data": {
      "text/plain": [
       "type\n",
       "hatchback       6868.513849\n",
       "sedan           6967.491479\n",
       "mini-van        8193.177433\n",
       "wagon           9064.879870\n",
       "van            10554.452532\n",
       "other          10962.223529\n",
       "SUV            11151.171129\n",
       "offroad        14292.294393\n",
       "coupe          14331.161950\n",
       "convertible    14587.484234\n",
       "pickup         16050.362829\n",
       "truck          16740.063011\n",
       "bus            17135.666667\n",
       "Name: price, dtype: float64"
      ]
     },
     "metadata": {},
     "output_type": "display_data"
    }
   ],
   "source": [
    "display(vehicles.groupby(['type'])['price'].mean().sort_values(ascending=True))"
   ]
  },
  {
   "cell_type": "markdown",
   "metadata": {},
   "source": [
    "I tried to find out the average price for all types of vehicles.Among all of the types,\"bus\" type vehicle is more expensive compared to the other types. Average price for \"pickup\" and \"truck\" type vehicles are same.The more cheaper type of vehicles are \"hatchback\", \"mini-van\", \"sedan\" and \"wagon\"."
   ]
  },
  {
   "cell_type": "markdown",
   "metadata": {},
   "source": [
    "**Scatter plotting for the type of \"SUV\":**"
   ]
  },
  {
   "cell_type": "code",
   "execution_count": 23,
   "metadata": {},
   "outputs": [
    {
     "data": {
      "text/plain": [
       "[Text(0.5, 1.0, 'condition_new for SUV')]"
      ]
     },
     "execution_count": 23,
     "metadata": {},
     "output_type": "execute_result"
    },
    {
     "data": {
      "image/png": "[encoded data removed]",
      "text/plain": [
       "<Figure size 432x288 with 1 Axes>"
      ]
     },
     "metadata": {
      "needs_background": "light"
     },
     "output_type": "display_data"
    },
    {
     "data": {
      "image/png": "[encoded data removed]",
      "text/plain": [
       "<Figure size 432x288 with 1 Axes>"
      ]
     },
     "metadata": {
      "needs_background": "light"
     },
     "output_type": "display_data"
    },
    {
     "data": {
      "image/png": "[encoded data removed]",
      "text/plain": [
       "<Figure size 432x288 with 1 Axes>"
      ]
     },
     "metadata": {
      "needs_background": "light"
     },
     "output_type": "display_data"
    }
   ],
   "source": [
    "vehicles.query('type == \"SUV\"').plot.scatter(\"vehicles_age\",\"price\").set(title='vehicles_age for SUV')\n",
    "vehicles.query('type == \"SUV\"').plot.scatter(\"average_mileage_per_year\",\"price\").set(title='average_mileage_per_year for SUV')\n",
    "vehicles.query('type == \"SUV\"').plot.scatter(\"condition_new\",\"price\").set(title='condition_new for SUV')"
   ]
  },
  {
   "cell_type": "markdown",
   "metadata": {},
   "source": [
    "**Scatter plotting for the type of \"truck\":**"
   ]
  },
  {
   "cell_type": "code",
   "execution_count": 24,
   "metadata": {},
   "outputs": [
    {
     "data": {
      "text/plain": [
       "[Text(0.5, 1.0, 'condition_new for truck')]"
      ]
     },
     "execution_count": 24,
     "metadata": {},
     "output_type": "execute_result"
    },
    {
     "data": {
      "image/png": "[encoded data removed]",
      "text/plain": [
       "<Figure size 432x288 with 1 Axes>"
      ]
     },
     "metadata": {
      "needs_background": "light"
     },
     "output_type": "display_data"
    },
    {
     "data": {
      "image/png": "[encoded data removed]",
      "text/plain": [
       "<Figure size 432x288 with 1 Axes>"
      ]
     },
     "metadata": {
      "needs_background": "light"
     },
     "output_type": "display_data"
    },
    {
     "data": {
      "image/png": "[encoded data removed]",
      "text/plain": [
       "<Figure size 432x288 with 1 Axes>"
      ]
     },
     "metadata": {
      "needs_background": "light"
     },
     "output_type": "display_data"
    }
   ],
   "source": [
    "vehicles.query('type == \"truck\"').plot.scatter(\"vehicles_age\",\"price\").set(title='vehicles_age for truck')\n",
    "vehicles.query('type == \"truck\"').plot.scatter(\"average_mileage_per_year\",\"price\").set(title='average_mileage_per_year for truck')\n",
    "vehicles.query('type == \"truck\"').plot.scatter(\"condition_new\",\"price\").set(title='condition_new for truck')"
   ]
  },
  {
   "cell_type": "markdown",
   "metadata": {},
   "source": [
    "**Catplot for the type of \"SUV\":**"
   ]
  },
  {
   "cell_type": "code",
   "execution_count": 25,
   "metadata": {},
   "outputs": [
    {
     "data": {
      "text/plain": [
       "<seaborn.axisgrid.FacetGrid at 0x2ba50947248>"
      ]
     },
     "execution_count": 25,
     "metadata": {},
     "output_type": "execute_result"
    },
    {
     "data": {
      "image/png": "[encoded data removed]",
      "text/plain": [
       "<Figure size 792x360 with 1 Axes>"
      ]
     },
     "metadata": {
      "needs_background": "light"
     },
     "output_type": "display_data"
    },
    {
     "data": {
      "image/png": "[encoded data removed]",
      "text/plain": [
       "<Figure size 360x360 with 1 Axes>"
      ]
     },
     "metadata": {
      "needs_background": "light"
     },
     "output_type": "display_data"
    },
    {
     "data": {
      "image/png": "[encoded data removed]",
      "text/plain": [
       "<Figure size 360x360 with 1 Axes>"
      ]
     },
     "metadata": {
      "needs_background": "light"
     },
     "output_type": "display_data"
    }
   ],
   "source": [
    "sns.catplot(x=\"paint_color\", y=\"price\", kind=\"box\",height=5, aspect=11/5, data=vehicles.query('type == \"SUV\"')).set(title='price vs paint_color for SUV')\n",
    "sns.catplot(x=\"condition\", y=\"price\", kind=\"box\", data=vehicles.query('type == \"SUV\"')).set(title='price vs condition for SUV')\n",
    "sns.catplot(x=\"transmission\", y=\"price\", kind=\"box\",data=vehicles.query('type == \"SUV\"')).set(title='price vs transmission for SUV')"
   ]
  },
  {
   "cell_type": "markdown",
   "metadata": {},
   "source": [
    "**Catplot for the type of \"truck\":**"
   ]
  },
  {
   "cell_type": "code",
   "execution_count": 26,
   "metadata": {},
   "outputs": [
    {
     "data": {
      "text/plain": [
       "<seaborn.axisgrid.FacetGrid at 0x2ba50e53f48>"
      ]
     },
     "execution_count": 26,
     "metadata": {},
     "output_type": "execute_result"
    },
    {
     "data": {
      "image/png": "[encoded data removed]",
      "text/plain": [
       "<Figure size 792x360 with 1 Axes>"
      ]
     },
     "metadata": {
      "needs_background": "light"
     },
     "output_type": "display_data"
    },
    {
     "data": {
      "image/png": "[encoded data removed]",
      "text/plain": [
       "<Figure size 360x360 with 1 Axes>"
      ]
     },
     "metadata": {
      "needs_background": "light"
     },
     "output_type": "display_data"
    },
    {
     "data": {
      "image/png": "[encoded data removed]",
      "text/plain": [
       "<Figure size 360x360 with 1 Axes>"
      ]
     },
     "metadata": {
      "needs_background": "light"
     },
     "output_type": "display_data"
    }
   ],
   "source": [
    "sns.catplot(x=\"paint_color\", y=\"price\", kind=\"box\",height=5, aspect=11/5, data=vehicles.query('type == \"truck\"')).set(title='price vs paint_color for truck')\n",
    "sns.catplot(x=\"condition\", y=\"price\", kind=\"box\", data=vehicles.query('type == \"truck\"')).set(title='price vs condition for truck')\n",
    "sns.catplot(x=\"transmission\", y=\"price\", kind=\"box\",data=vehicles.query('type == \"truck\"')).set(title='price vs transmission for truck')"
   ]
  },
  {
   "cell_type": "markdown",
   "metadata": {},
   "source": [
    "**Checking the \"transmission\" who has more than 50 ads:**"
   ]
  },
  {
   "cell_type": "code",
   "execution_count": 27,
   "metadata": {},
   "outputs": [
    {
     "data": {
      "text/plain": [
       "automatic    True\n",
       "manual       True\n",
       "other        True\n",
       "Name: transmission, dtype: bool"
      ]
     },
     "execution_count": 27,
     "metadata": {},
     "output_type": "execute_result"
    }
   ],
   "source": [
    "vehicles[\"transmission\"].value_counts() > 50"
   ]
  },
  {
   "cell_type": "markdown",
   "metadata": {},
   "source": [
    "**Checking the \"type\" who has more than 50 ads:**"
   ]
  },
  {
   "cell_type": "code",
   "execution_count": 28,
   "metadata": {},
   "outputs": [
    {
     "data": {
      "text/plain": [
       "SUV             True\n",
       "truck           True\n",
       "sedan           True\n",
       "pickup          True\n",
       "coupe           True\n",
       "wagon           True\n",
       "mini-van        True\n",
       "hatchback       True\n",
       "van             True\n",
       "convertible     True\n",
       "other           True\n",
       "offroad         True\n",
       "bus            False\n",
       "Name: type, dtype: bool"
      ]
     },
     "execution_count": 28,
     "metadata": {},
     "output_type": "execute_result"
    }
   ],
   "source": [
    "vehicles[\"type\"].value_counts() > 50"
   ]
  },
  {
   "cell_type": "markdown",
   "metadata": {},
   "source": [
    "According to the question, when analysing categorical variables the categories must have at least 50 ads. But the numebr of \"bus\" type vehicle is 24. So we have to analyse our vahicles_us data excluding bus type vehicles."
   ]
  },
  {
   "cell_type": "markdown",
   "metadata": {},
   "source": [
    "**Counting the number of vehicles type:**"
   ]
  },
  {
   "cell_type": "code",
   "execution_count": 29,
   "metadata": {},
   "outputs": [
    {
     "data": {
      "text/plain": [
       "SUV            12400\n",
       "truck          12347\n",
       "sedan          12147\n",
       "pickup          6984\n",
       "coupe           2297\n",
       "wagon           1540\n",
       "mini-van        1161\n",
       "hatchback       1047\n",
       "van              632\n",
       "convertible      444\n",
       "other            255\n",
       "offroad          214\n",
       "bus               24\n",
       "Name: type, dtype: int64"
      ]
     },
     "execution_count": 29,
     "metadata": {},
     "output_type": "execute_result"
    }
   ],
   "source": [
    "vehicles[\"type\"].value_counts()"
   ]
  },
  {
   "cell_type": "markdown",
   "metadata": {},
   "source": [
    "**Checking the vehicles \"paint_color\" who has more than 50 ads:**"
   ]
  },
  {
   "cell_type": "code",
   "execution_count": 30,
   "metadata": {},
   "outputs": [
    {
     "data": {
      "text/plain": [
       "white            True\n",
       "Not mentioned    True\n",
       "black            True\n",
       "silver           True\n",
       "grey             True\n",
       "blue             True\n",
       "red              True\n",
       "green            True\n",
       "brown            True\n",
       "custom           True\n",
       "yellow           True\n",
       "orange           True\n",
       "purple           True\n",
       "Name: paint_color, dtype: bool"
      ]
     },
     "execution_count": 30,
     "metadata": {},
     "output_type": "execute_result"
    }
   ],
   "source": [
    "vehicles[\"paint_color\"].value_counts() > 50"
   ]
  },
  {
   "cell_type": "markdown",
   "metadata": {},
   "source": [
    "<a id='the_destination5'></a>\n",
    "# Step 5. Overall conclusion"
   ]
  },
  {
   "cell_type": "markdown",
   "metadata": {},
   "source": [
    "\n",
    "-  We have to analyse our vehicles_us data excluding \"bus\" type vehicles.\n",
    "-  Average price for \"pickup\" and \"truck\" type vehicles are almost same.The more cheaper type of vehicles are \"hatchback\", \"mini-van\", \"sedan\" and \"wagon\".\n",
    "-  The two types with the greatest number of ads are bus and van(The average dependence of the number of ads on the vehicle type).\n",
    "-  After removing the outliers, we found that the majority of the vehicles price is less than 34618.\n",
    "-  Most of the vehicles average_age is less than 25 years.\n",
    "-  Maximum number of vehicles have 4,6,8 cylinders. Very few vehicles have less than 4 & more than 8 cylinders.\n",
    "\n",
    "Finally, I can conclude that the \"price\" of the vehicles are dependent on \"model_year\", \"condition\", \"type\", \"average_mileage_per_year\" and \"odometer\".If the vehicles \"average_mileage_per_year\" is less compared to others then it can be said that those vehicles are \"new\" or \"likely_new\" condition. In that case, the price of those vehicles would be higher."
   ]
  },
  {
   "cell_type": "markdown",
   "metadata": {},
   "source": [
    "### Project completion checklist\n",
    "\n",
    "Mark the completed tasks with 'x'. Then press Shift+Enter."
   ]
  },
  {
   "cell_type": "markdown",
   "metadata": {},
   "source": [
    "- [x]  file opened\n",
    "- [X]  files explored (first rows printed, info() method)\n",
    "- [X]  missing values determined\n",
    "- [X]  missing values filled in\n",
    "- [X]  clarification of the discovered missing values provided\n",
    "- [X]  data types converted\n",
    "- [X]  explanation of which columns had the data types changed and why\n",
    "- [X]  calculated and added to the table: day of the week, month, and year the ad was placed\n",
    "- [X]  calculated and added to the table: the vehicle's age (in years) when the ad was placed\n",
    "- [X]  calculated and added to the table: the vehicle's average mileage per year\n",
    "- [X]  the following parameters investigated: price, vehicle's age when the ad was placed, mileage, number of cylinders, and condition\n",
    "- [X]  histograms for each parameter created\n",
    "- [X]  task completed: \"Determine the upper limits of outliers, remove the outliers and store them in a separate DataFrame, and continue your work with the filtered data.\"\n",
    "- [X]  task completed: \"Use the filtered data to plot new histograms. Compare them with the earlier histograms (the ones that included outliers). Draw conclusions for each histogram.\"\n",
    "- [X]  task completed: \"Study how many days advertisements were displayed (days_listed). Plot a histogram. Calculate the mean and median. Describe the typical lifetime of an ad. Determine when ads were removed quickly, and when they were listed for an abnormally long time.  \"\n",
    "- [X]  task completed: \"Analyze the number of ads and the average price for each type of vehicle. Plot a graph showing the dependence of the number of ads on the vehicle type. Select the two types with the greatest number of ads. \"\n",
    "- [X]  task completed: \"What factors impact the price most? Take each of the popular types you detected at the previous stage and study whether the price depends on age, mileage, condition, transmission type, and color. For categorical variables (transmission type and color), plot box-and-whisker charts, and create scatterplots for the rest. When analyzing categorical variables, note that the categories must have at least 50 ads; otherwise, their parameters won't be valid for analysis.  \"\n",
    "- [X]  each stage has a conclusion\n",
    "- [X]  overall conclusion drawn"
   ]
  },
  {
   "cell_type": "code",
   "execution_count": null,
   "metadata": {},
   "outputs": [],
   "source": []
  }
 ],
 "metadata": {
  "ExecuteTimeLog": [
   {
    "duration": 1457,
    "start_time": "2021-08-29T23:00:17.246Z"
   },
   {
    "duration": 130,
    "start_time": "2021-08-29T23:00:18.706Z"
   },
   {
    "duration": 33,
    "start_time": "2021-08-29T23:00:18.839Z"
   },
   {
    "duration": 26,
    "start_time": "2021-08-29T23:00:18.875Z"
   },
   {
    "duration": 21,
    "start_time": "2021-08-29T23:00:18.904Z"
   },
   {
    "duration": 9,
    "start_time": "2021-08-29T23:00:18.955Z"
   },
   {
    "duration": 22925,
    "start_time": "2021-08-29T23:00:18.967Z"
   },
   {
    "duration": 26,
    "start_time": "2021-08-29T23:00:41.896Z"
   },
   {
    "duration": 81,
    "start_time": "2021-08-29T23:00:41.925Z"
   },
   {
    "duration": 850,
    "start_time": "2021-08-29T23:00:42.009Z"
   },
   {
    "duration": 29,
    "start_time": "2021-08-29T23:00:42.862Z"
   },
   {
    "duration": 25,
    "start_time": "2021-08-29T23:00:42.893Z"
   },
   {
    "duration": 51,
    "start_time": "2021-08-29T23:00:42.921Z"
   },
   {
    "duration": 59,
    "start_time": "2021-08-29T23:00:42.974Z"
   },
   {
    "duration": 2343,
    "start_time": "2021-08-29T23:00:43.035Z"
   },
   {
    "duration": 12,
    "start_time": "2021-08-29T23:00:45.381Z"
   },
   {
    "duration": 12,
    "start_time": "2021-08-29T23:00:45.396Z"
   },
   {
    "duration": 46,
    "start_time": "2021-08-29T23:00:45.411Z"
   },
   {
    "duration": 2097,
    "start_time": "2021-08-29T23:00:45.460Z"
   },
   {
    "duration": 11,
    "start_time": "2021-08-29T23:00:47.559Z"
   },
   {
    "duration": 788,
    "start_time": "2021-08-29T23:00:47.573Z"
   },
   {
    "duration": 6,
    "start_time": "2021-08-29T23:00:48.364Z"
   },
   {
    "duration": 21,
    "start_time": "2021-08-29T23:00:48.374Z"
   },
   {
    "duration": 459,
    "start_time": "2021-08-29T23:00:48.398Z"
   },
   {
    "duration": 13,
    "start_time": "2021-08-29T23:00:48.860Z"
   },
   {
    "duration": 1762,
    "start_time": "2021-08-29T23:00:48.876Z"
   },
   {
    "duration": 1666,
    "start_time": "2021-08-29T23:00:50.641Z"
   },
   {
    "duration": 2246,
    "start_time": "2021-08-29T23:00:52.310Z"
   },
   {
    "duration": 2059,
    "start_time": "2021-08-29T23:00:54.559Z"
   },
   {
    "duration": 13,
    "start_time": "2021-08-29T23:00:56.621Z"
   },
   {
    "duration": 27,
    "start_time": "2021-08-29T23:00:56.637Z"
   },
   {
    "duration": 31,
    "start_time": "2021-08-29T23:00:56.666Z"
   },
   {
    "duration": 36,
    "start_time": "2021-08-29T23:00:56.699Z"
   },
   {
    "duration": 1436,
    "start_time": "2022-03-07T23:20:01.661Z"
   },
   {
    "duration": 130,
    "start_time": "2022-03-07T23:20:03.099Z"
   },
   {
    "duration": 24,
    "start_time": "2022-03-07T23:20:03.232Z"
   },
   {
    "duration": 43,
    "start_time": "2022-03-07T23:20:03.259Z"
   },
   {
    "duration": 20,
    "start_time": "2022-03-07T23:20:03.305Z"
   },
   {
    "duration": 9,
    "start_time": "2022-03-07T23:20:03.327Z"
   },
   {
    "duration": 23446,
    "start_time": "2022-03-07T23:20:03.338Z"
   },
   {
    "duration": 24,
    "start_time": "2022-03-07T23:20:26.788Z"
   },
   {
    "duration": 76,
    "start_time": "2022-03-07T23:20:26.816Z"
   },
   {
    "duration": 908,
    "start_time": "2022-03-07T23:20:26.894Z"
   },
   {
    "duration": 29,
    "start_time": "2022-03-07T23:20:27.805Z"
   },
   {
    "duration": 25,
    "start_time": "2022-03-07T23:20:27.836Z"
   },
   {
    "duration": 24,
    "start_time": "2022-03-07T23:20:27.882Z"
   },
   {
    "duration": 50,
    "start_time": "2022-03-07T23:20:27.908Z"
   },
   {
    "duration": 2505,
    "start_time": "2022-03-07T23:20:27.960Z"
   },
   {
    "duration": 20,
    "start_time": "2022-03-07T23:20:30.467Z"
   },
   {
    "duration": 16,
    "start_time": "2022-03-07T23:20:30.490Z"
   },
   {
    "duration": 15,
    "start_time": "2022-03-07T23:20:30.508Z"
   },
   {
    "duration": 2194,
    "start_time": "2022-03-07T23:20:30.525Z"
   },
   {
    "duration": 13,
    "start_time": "2022-03-07T23:20:32.721Z"
   },
   {
    "duration": 817,
    "start_time": "2022-03-07T23:20:32.736Z"
   },
   {
    "duration": 6,
    "start_time": "2022-03-07T23:20:33.556Z"
   },
   {
    "duration": 14,
    "start_time": "2022-03-07T23:20:33.585Z"
   },
   {
    "duration": 431,
    "start_time": "2022-03-07T23:20:33.602Z"
   },
   {
    "duration": 13,
    "start_time": "2022-03-07T23:20:34.036Z"
   },
   {
    "duration": 1690,
    "start_time": "2022-03-07T23:20:34.052Z"
   },
   {
    "duration": 1808,
    "start_time": "2022-03-07T23:20:35.745Z"
   },
   {
    "duration": 2173,
    "start_time": "2022-03-07T23:20:37.556Z"
   },
   {
    "duration": 2176,
    "start_time": "2022-03-07T23:20:39.732Z"
   },
   {
    "duration": 15,
    "start_time": "2022-03-07T23:20:41.912Z"
   },
   {
    "duration": 14,
    "start_time": "2022-03-07T23:20:41.930Z"
   },
   {
    "duration": 41,
    "start_time": "2022-03-07T23:20:41.947Z"
   },
   {
    "duration": 15,
    "start_time": "2022-03-07T23:20:41.992Z"
   },
   {
    "duration": 1292,
    "start_time": "2022-05-12T16:12:36.370Z"
   },
   {
    "duration": 168,
    "start_time": "2022-05-12T16:12:37.664Z"
   },
   {
    "duration": 17,
    "start_time": "2022-05-12T16:12:37.833Z"
   },
   {
    "duration": 22,
    "start_time": "2022-05-12T16:12:37.851Z"
   },
   {
    "duration": 12,
    "start_time": "2022-05-12T16:12:37.875Z"
   },
   {
    "duration": 7,
    "start_time": "2022-05-12T16:12:37.889Z"
   },
   {
    "duration": 8070,
    "start_time": "2022-05-12T16:12:37.898Z"
   },
   {
    "duration": 20,
    "start_time": "2022-05-12T16:12:45.971Z"
   },
   {
    "duration": 39,
    "start_time": "2022-05-12T16:12:45.993Z"
   },
   {
    "duration": 456,
    "start_time": "2022-05-12T16:12:46.035Z"
   },
   {
    "duration": 16,
    "start_time": "2022-05-12T16:12:46.492Z"
   },
   {
    "duration": 16,
    "start_time": "2022-05-12T16:12:46.510Z"
   },
   {
    "duration": 16,
    "start_time": "2022-05-12T16:12:46.527Z"
   },
   {
    "duration": 59,
    "start_time": "2022-05-12T16:12:46.545Z"
   },
   {
    "duration": 962,
    "start_time": "2022-05-12T16:12:46.605Z"
   },
   {
    "duration": 7,
    "start_time": "2022-05-12T16:12:47.568Z"
   },
   {
    "duration": 6,
    "start_time": "2022-05-12T16:12:47.577Z"
   },
   {
    "duration": 6,
    "start_time": "2022-05-12T16:12:47.585Z"
   },
   {
    "duration": 993,
    "start_time": "2022-05-12T16:12:47.592Z"
   },
   {
    "duration": 9,
    "start_time": "2022-05-12T16:12:48.587Z"
   },
   {
    "duration": 316,
    "start_time": "2022-05-12T16:12:48.597Z"
   },
   {
    "duration": 5,
    "start_time": "2022-05-12T16:12:48.915Z"
   },
   {
    "duration": 15,
    "start_time": "2022-05-12T16:12:48.922Z"
   },
   {
    "duration": 175,
    "start_time": "2022-05-12T16:12:48.939Z"
   },
   {
    "duration": 11,
    "start_time": "2022-05-12T16:12:49.116Z"
   },
   {
    "duration": 567,
    "start_time": "2022-05-12T16:12:49.128Z"
   },
   {
    "duration": 467,
    "start_time": "2022-05-12T16:12:49.696Z"
   },
   {
    "duration": 1249,
    "start_time": "2022-05-12T16:12:50.166Z"
   },
   {
    "duration": 1193,
    "start_time": "2022-05-12T16:12:51.417Z"
   },
   {
    "duration": 9,
    "start_time": "2022-05-12T16:12:52.612Z"
   },
   {
    "duration": 9,
    "start_time": "2022-05-12T16:12:52.623Z"
   },
   {
    "duration": 9,
    "start_time": "2022-05-12T16:12:52.634Z"
   },
   {
    "duration": 31,
    "start_time": "2022-05-12T16:12:52.645Z"
   }
  ],
  "kernelspec": {
   "display_name": "Python 3",
   "language": "python",
   "name": "python3"
  },
  "language_info": {
   "codemirror_mode": {
    "name": "ipython",
    "version": 3
   },
   "file_extension": ".py",
   "mimetype": "text/x-python",
   "name": "python",
   "nbconvert_exporter": "python",
   "pygments_lexer": "ipython3",
   "version": "3.7.4"
  },
  "toc": {
   "base_numbering": 1,
   "nav_menu": {},
   "number_sections": true,
   "sideBar": true,
   "skip_h1_title": true,
   "title_cell": "Table of Contents",
   "title_sidebar": "Contents",
   "toc_cell": false,
   "toc_position": {},
   "toc_section_display": true,
   "toc_window_display": false
  }
 },
 "nbformat": 4,
 "nbformat_minor": 2
}
